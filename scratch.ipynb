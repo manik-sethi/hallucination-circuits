{
 "cells": [
  {
   "cell_type": "code",
   "execution_count": null,
   "metadata": {},
   "outputs": [],
   "source": [
    "import torch\n",
    "from torch.utils.data import Dataset, DataLoader\n",
    "from sae_lens.saes.sae import SAE\n",
    "from transformer_lens import HookedTransformer\n",
    "import transformers\n",
    "from transformers import AutoTokenizer, AutoModelForCausalLM\n",
    "from sae_lens import SAE, ActivationsStore"
   ]
  },
  {
   "cell_type": "code",
   "execution_count": null,
   "metadata": {},
   "outputs": [],
   "source": [
    "torch.set_grad_enabled(False)\n",
    "model = HookedTransformer.from_pretrained(\"gemma-2b-it\")\n",
    "sae, cfg, sparsity  = SAE.from_pretrained(\n",
    "  \"gemma-2b-it-res-jb\",\n",
    "  \"blocks.12.hook_resid_post\"\n",
    ")"
   ]
  },
  {
   "cell_type": "code",
   "execution_count": null,
   "metadata": {},
   "outputs": [],
   "source": [
    "tokenizer = AutoTokenizer.from_pretrained(\"google/gemma-2b-it\")   "
   ]
  },
  {
   "cell_type": "code",
   "execution_count": null,
   "metadata": {},
   "outputs": [],
   "source": [
    "tokenizer.encode(\"Bruh I'm finna fart\")"
   ]
  },
  {
   "cell_type": "code",
   "execution_count": null,
   "metadata": {},
   "outputs": [],
   "source": [
    "my_strings = [\n",
    "    \"The quick brown fox jumps over the lazy dog.\",\n",
    "    \"Artificial intelligence is rapidly advancing.\",\n",
    "    \"Learning about SAEs is fascinating and complex.\",\n",
    "    \"Hello world from a simple string!\",\n",
    "] * 5000\n",
    "\n",
    "class TextDataset(Dataset):\n",
    "    def __init__(self, texts):\n",
    "        self.texts = texts\n",
    "        \n",
    "    def __len__(self):\n",
    "        return len(self.texts)\n",
    "    \n",
    "    def __getitem__(self, idx):\n",
    "        return {\"text\": self.texts[idx]}\n",
    "\n",
    "# Create DataLoader\n",
    "dataset = TextDataset(my_strings)\n",
    "dataloader = DataLoader(dataset, batch_size=1, shuffle=False)"
   ]
  },
  {
   "cell_type": "code",
   "execution_count": null,
   "metadata": {},
   "outputs": [],
   "source": [
    "activation_store = ActivationsStore.from_sae(\n",
    "    model=model,\n",
    "    sae=sae,\n",
    "    # tokenizer=tokenizer,  # Explicit tokenizer\n",
    "    dataset=dataloader,\n",
    "    streaming=False,\n",
    "    train_batch_size_tokens=16,\n",
    "    n_batches_in_buffer=1,\n",
    "    device='cpu'\n",
    ")"
   ]
  },
  {
   "cell_type": "code",
   "execution_count": null,
   "metadata": {},
   "outputs": [],
   "source": [
    "\n",
    "# Process activations\n",
    "reconstructions = []\n",
    "for batch in activation_store:\n",
    "    # SAE returns: (reconstruction, feature_acts, loss, ...)\n",
    "    with torch.no_grad():\n",
    "        output = sae(batch)\n",
    "    reconstructions.append(output[0].cpu())  # Store on CPU\n",
    "\n",
    "# Combine results (optional)\n",
    "all_recons = torch.cat(reconstructions, dim=0)\n",
    "print(\"Reconstructions shape:\", all_recons.shape)"
   ]
  },
  {
   "cell_type": "markdown",
   "metadata": {},
   "source": [
    "---\n"
   ]
  },
  {
   "cell_type": "code",
   "execution_count": 1,
   "metadata": {},
   "outputs": [
    {
     "data": {
      "text/plain": [
       "<torch.autograd.grad_mode.set_grad_enabled at 0x110539850>"
      ]
     },
     "execution_count": 1,
     "metadata": {},
     "output_type": "execute_result"
    }
   ],
   "source": [
    "import torch\n",
    "from torch.utils.data import Dataset, DataLoader\n",
    "from transformer_lens import HookedTransformer\n",
    "from sae_lens import ActivationsStore, SAE\n",
    "from transformers import AutoTokenizer\n",
    "\n",
    "torch.set_grad_enabled(False)"
   ]
  },
  {
   "cell_type": "code",
   "execution_count": 2,
   "metadata": {},
   "outputs": [
    {
     "data": {
      "application/vnd.jupyter.widget-view+json": {
       "model_id": "8841c6493d5b46f59ed54ca0f261ea95",
       "version_major": 2,
       "version_minor": 0
      },
      "text/plain": [
       "Loading checkpoint shards:   0%|          | 0/2 [00:00<?, ?it/s]"
      ]
     },
     "metadata": {},
     "output_type": "display_data"
    },
    {
     "name": "stderr",
     "output_type": "stream",
     "text": [
      "WARNING:root:You are not using LayerNorm, so the writing weights can't be centered! Skipping\n"
     ]
    },
    {
     "name": "stdout",
     "output_type": "stream",
     "text": [
      "Loaded pretrained model gemma-2b-it into HookedTransformer\n"
     ]
    },
    {
     "name": "stderr",
     "output_type": "stream",
     "text": [
      "/var/folders/td/xbjvmnz50_z9p_v_y9frpj3c0000gn/T/ipykernel_783/2709055621.py:3: DeprecationWarning: Unpacking SAE objects is deprecated. SAE.from_pretrained() now returns only the SAE object. Use SAE.from_pretrained_with_cfg_and_sparsity() to get the config dict and sparsity as well.\n",
      "  sae, cfg, sparsity  = SAE.from_pretrained(\n"
     ]
    }
   ],
   "source": [
    "\n",
    "torch.set_grad_enabled(False)\n",
    "model = HookedTransformer.from_pretrained(\"gemma-2b-it\")\n",
    "sae, cfg, sparsity  = SAE.from_pretrained(\n",
    "  \"gemma-2b-it-res-jb\",\n",
    "  \"blocks.12.hook_resid_post\"\n",
    ")"
   ]
  },
  {
   "cell_type": "code",
   "execution_count": 14,
   "metadata": {},
   "outputs": [],
   "source": [
    "# Dataset with repeated strings\n",
    "my_strings = [\n",
    "    \"The quick brown fox jumps over the lazy dog.\",\n",
    "    \"Artificial intelligence is rapidly advancing.\",\n",
    "    \"Learning about SAEs is fascinating and complex.\",\n",
    "    \"Hello world from a simple string!\",\n",
    "] * 5000  # 20,000 examples\n",
    "\n",
    "class TextDataset(Dataset):\n",
    "    def __init__(self, texts):\n",
    "        self.texts = texts\n",
    "        \n",
    "    def __len__(self):\n",
    "        return len(self.texts)\n",
    "    \n",
    "    def __getitem__(self, idx):\n",
    "        return {\"text\": self.texts[idx]}\n",
    "\n",
    "# Create DataLoader\n",
    "dataset = TextDataset(my_strings)\n",
    "dataloader = DataLoader(dataset, batch_size=1, shuffle=False)"
   ]
  },
  {
   "cell_type": "code",
   "execution_count": 15,
   "metadata": {},
   "outputs": [
    {
     "name": "stderr",
     "output_type": "stream",
     "text": [
      "/Users/pardan/Code/SAE/sae-env/lib/python3.11/site-packages/sae_lens/training/activations_store.py:317: UserWarning: Dataset is not tokenized. Pre-tokenizing will improve performance and allows for more control over special tokens. See https://jbloomaus.github.io/SAELens/training_saes/#pretokenizing-datasets for more info.\n",
      "  warnings.warn(\n"
     ]
    }
   ],
   "source": [
    "# Initialize ActivationsStore\n",
    "activation_store = ActivationsStore.from_sae(\n",
    "    model=model,\n",
    "    sae=sae,\n",
    "    # tokenizer=tokenizer,  # Explicit tokenizer\n",
    "    dataset=dataloader,\n",
    "    streaming=True,\n",
    "    train_batch_size_tokens=16,\n",
    "    n_batches_in_buffer=1,\n",
    "    device='cpu'\n",
    ")"
   ]
  },
  {
   "cell_type": "code",
   "execution_count": 16,
   "metadata": {},
   "outputs": [
    {
     "name": "stderr",
     "output_type": "stream",
     "text": [
      "                                    \r"
     ]
    }
   ],
   "source": [
    "\n",
    "\n",
    "max_batches = 2  # Process only 100 batches\n",
    "reconstructions = []\n",
    "\n",
    "for i, batch in enumerate(activation_store):\n",
    "    print(f\"Batch no: {batch}\")\n",
    "    if i >= max_batches:\n",
    "        break\n",
    "    with torch.no_grad():\n",
    "        output = sae(batch)\n",
    "    reconstructions.append(output[0].cpu())\n",
    "\n",
    "# Combine results (optional)\n",
    "all_recons = torch.cat(reconstructions, dim=0)\n",
    "print(\"Reconstructions shape:\", all_recons.shape)"
   ]
  },
  {
   "cell_type": "code",
   "execution_count": null,
   "metadata": {},
   "outputs": [],
   "source": []
  }
 ],
 "metadata": {
  "kernelspec": {
   "display_name": "SAEenv",
   "language": "python",
   "name": "python3"
  },
  "language_info": {
   "codemirror_mode": {
    "name": "ipython",
    "version": 3
   },
   "file_extension": ".py",
   "mimetype": "text/x-python",
   "name": "python",
   "nbconvert_exporter": "python",
   "pygments_lexer": "ipython3",
   "version": "3.11.13"
  },
  "orig_nbformat": 4
 },
 "nbformat": 4,
 "nbformat_minor": 2
}
