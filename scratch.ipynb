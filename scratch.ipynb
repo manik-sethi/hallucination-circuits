{
 "cells": [
  {
   "cell_type": "code",
   "execution_count": 1,
   "metadata": {},
   "outputs": [],
   "source": [
    "from transformers import AutoTokenizer\n",
    "from src.data.huggingface import HFDatasetLoader\n",
    "from src.data.text import TextDatasetLoader\n",
    "from src.interfaces.lens_backend import Variant\n",
    "from src.interfaces.neuronpedia_api import NeuronpediaClient\n",
    "from torch.utils.data import DataLoader\n",
    "from transformer_lens import HookedTransformer\n",
    "from sae_lens import SAE"
   ]
  },
  {
   "cell_type": "markdown",
   "metadata": {},
   "source": [
    "#### Load in Models and SAEs"
   ]
  },
  {
   "cell_type": "code",
   "execution_count": 2,
   "metadata": {},
   "outputs": [
    {
     "name": "stdout",
     "output_type": "stream",
     "text": [
      "using HookedSAETransformer\n",
      "Loaded pretrained model gpt2-small into HookedTransformer\n"
     ]
    }
   ],
   "source": [
    "# Maybe try to find a way to manually hook into Deepseek-r1-distill-llama-8b?\n",
    "gpt = Variant(\n",
    "    model_id=\"gpt2-small\",\n",
    "    sae_release=\"gpt2-small-res-jb\",\n",
    "    sae_id=\"blocks.11.hook_resid_pre\",\n",
    ")\n",
    "# gemma = Variant(\n",
    "#     model_id=\"google/gemma-2b-it\",\n",
    "#     sae_release=\"gemma-2b-it-res-jb\",\n",
    "#     sae_id=\"blocks.12.hook_resid_post\"\n",
    "# )\n",
    "# llama = Variant(\n",
    "#     model_id=\"meta-llama/Llama-3.1-8B-Instruct\",\n",
    "#     sae_release=\"llama-3-8b-it-res-jh\",\n",
    "#     sae_id=\"blocks.25.hook_resid_post\"\n",
    "# )\n",
    "\n",
    "\n",
    "model, sae, cfg, tokenizer = gpt.get_components()"
   ]
  },
  {
   "cell_type": "markdown",
   "metadata": {},
   "source": [
    "#### Load in Data"
   ]
  },
  {
   "cell_type": "code",
   "execution_count": 3,
   "metadata": {},
   "outputs": [
    {
     "name": "stderr",
     "output_type": "stream",
     "text": [
      "huggingface/tokenizers: The current process just got forked, after parallelism has already been used. Disabling parallelism to avoid deadlocks...\n",
      "To disable this warning, you can either:\n",
      "\t- Avoid using `tokenizers` before the fork if possible\n",
      "\t- Explicitly set the environment variable TOKENIZERS_PARALLELISM=(true | false)\n"
     ]
    },
    {
     "data": {
      "application/vnd.jupyter.widget-view+json": {
       "model_id": "03247f674bff4503986475df679ce1d0",
       "version_major": 2,
       "version_minor": 0
      },
      "text/plain": [
       "Map (num_proc=10):   0%|          | 0/50 [00:00<?, ? examples/s]"
      ]
     },
     "metadata": {},
     "output_type": "display_data"
    }
   ],
   "source": [
    "# using hf datasets\n",
    "hf_loader = HFDatasetLoader(\n",
    "    hf_link=\"NeelNanda/pile-10k\",\n",
    "    tokenizer=tokenizer,\n",
    "    sae=sae,          # pass in that cfg.metadata.context_size, prepend_bos\n",
    "    split=\"train\"\n",
    ")\n",
    "\n",
    "# using text dataset\n",
    "sentences = [f\"Sentence {i}\" for i in range(50)]\n",
    "\n",
    "text_loader = TextDatasetLoader(\n",
    "    list_str=sentences,\n",
    "    tokenizer=tokenizer,\n",
    "    sae=sae\n",
    ")"
   ]
  },
  {
   "cell_type": "code",
   "execution_count": 8,
   "metadata": {},
   "outputs": [],
   "source": [
    "hf_sentences = []\n",
    "for i in range(5):\n",
    "    token_ids = hf_loader.tokens[i][\"tokens\"]\n",
    "    decoded = model.tokenizer.decode(token_ids, skip_special_tokens=True)\n",
    "    hf_sentences.append(decoded)"
   ]
  },
  {
   "cell_type": "markdown",
   "metadata": {},
   "source": [
    "#### Connect Neuronpedia Client"
   ]
  },
  {
   "cell_type": "code",
   "execution_count": 9,
   "metadata": {},
   "outputs": [],
   "source": [
    "npedia_client = NeuronpediaClient(\n",
    "    model_id=\"gpt2-small\",\n",
    "    sae_layer=\"11-res-jb\",\n",
    "    source_set=\"res-jb\",\n",
    ")\n",
    "\n"
   ]
  },
  {
   "cell_type": "code",
   "execution_count": 10,
   "metadata": {},
   "outputs": [
    {
     "data": {
      "text/plain": [
       "'It is done, and submitted. You can play “Survival of the Tastiest” on Android, and on the web. Playing on the web works, but you have to simulate multi-touch for table moving and that can be a bit confusing.\\n\\nThere’s a lot I’d like to talk about. I’ll go through every topic, insted of making the typical what went right/wrong list.\\n\\nConcept\\n\\nWorking over the theme was probably one of the hardest tasks I had to face.\\n\\nOriginally, I had an idea of what kind of'"
      ]
     },
     "execution_count": 10,
     "metadata": {},
     "output_type": "execute_result"
    }
   ],
   "source": [
    "hf_sentences[0]"
   ]
  },
  {
   "cell_type": "code",
   "execution_count": 11,
   "metadata": {},
   "outputs": [],
   "source": [
    "test_query = \"Rain pitter patters against the window, leaving the man with only a remembrance of what was once in his embrace\""
   ]
  },
  {
   "cell_type": "code",
   "execution_count": 12,
   "metadata": {},
   "outputs": [],
   "source": [
    "feat_activations = npedia_client.all_text_feat(\n",
    "    query=test_query,\n",
    "    ignore_bos=True,\n",
    "    density_threshold=0.05,\n",
    "    num_results=100\n",
    ")\n",
    "\n",
    "# specific_feat = npedia_client.feat_specific_act(\n",
    "#     index=1683,\n",
    "#     text=hf_sentences[0]\n",
    "# )"
   ]
  },
  {
   "cell_type": "code",
   "execution_count": 13,
   "metadata": {},
   "outputs": [
    {
     "name": "stdout",
     "output_type": "stream",
     "text": [
      "21800\n",
      "19832\n",
      "23543\n",
      "24098\n",
      "18258\n",
      "4181\n",
      "9894\n"
     ]
    }
   ],
   "source": [
    "for act in feat_activations[\"result\"]:\n",
    "    print(act['index'])"
   ]
  },
  {
   "cell_type": "code",
   "execution_count": null,
   "metadata": {},
   "outputs": [],
   "source": [
    "from tqdm.auto import tqdm\n",
    "import torch\n",
    "\n",
    "sae.eval()\n",
    "feature_acts_list = []\n",
    "batch_size = 5\n",
    "\n",
    "token_dataset = hf_loader.tokens.select(range(100))\n",
    "\n",
    "with torch.no_grad():\n",
    "    for i in tqdm(range(0,len(token_dataset), batch_size)):\n",
    "\n",
    "        batch = token_dataset[i:i+batch_size]\n",
    "        batch_tokens = torch.tensor(batch['tokens']).to(model.cfg.device)\n",
    "\n",
    "        hook_layer = int(sae.cfg.hook_name.split('.')[1])\n",
    "\n",
    "        _, cache = model.run_with_cache(\n",
    "            batch_tokens,\n",
    "            prepend_bos=True,\n",
    "            stop_at_layer = hook_layer+1\n",
    "        )\n",
    "\n",
    "        features = sae.encode(cache[sae.cfg.hook_name])\n",
    "        feature_acts_list.append(features)\n",
    "\n",
    "        del cache\n",
    "\n",
    "feature_acts = torch.cat(feature_acts_list, dim=0)"
   ]
  }
 ],
 "metadata": {
  "kernelspec": {
   "display_name": "SAEenv",
   "language": "python",
   "name": "python3"
  },
  "language_info": {
   "codemirror_mode": {
    "name": "ipython",
    "version": 3
   },
   "file_extension": ".py",
   "mimetype": "text/x-python",
   "name": "python",
   "nbconvert_exporter": "python",
   "pygments_lexer": "ipython3",
   "version": "3.11.13"
  },
  "orig_nbformat": 4
 },
 "nbformat": 4,
 "nbformat_minor": 2
}
