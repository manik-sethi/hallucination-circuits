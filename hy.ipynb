{
 "cells": [
  {
   "cell_type": "code",
   "execution_count": 2,
   "metadata": {},
   "outputs": [
    {
     "name": "stdout",
     "output_type": "stream",
     "text": [
      "Downloading to local disk…\n"
     ]
    },
    {
     "name": "stderr",
     "output_type": "stream",
     "text": [
      "Repo card metadata block was not found. Setting CardData to empty.\n"
     ]
    },
    {
     "data": {
      "application/vnd.jupyter.widget-view+json": {
       "model_id": "1c025168fe7840d7a254ddd30bbd0219",
       "version_major": 2,
       "version_minor": 0
      },
      "text/plain": [
       "Resolving data files:   0%|          | 0/55 [00:00<?, ?it/s]"
      ]
     },
     "metadata": {},
     "output_type": "display_data"
    },
    {
     "name": "stdout",
     "output_type": "stream",
     "text": [
      "Uploading to S3…\n",
      "✅ already in S3: eli5_sae_features-train-00026-of-00055.parquet\n",
      "✅ already in S3: eli5_sae_features-train-00018-of-00055.parquet\n",
      "✅ already in S3: eli5_sae_features-train-00043-of-00055.parquet\n",
      "✅ already in S3: eli5_sae_features-train-00039-of-00055.parquet\n",
      "✅ already in S3: eli5_sae_features-train-00007-of-00055.parquet\n",
      "✅ already in S3: eli5_sae_features-train-00048-of-00055.parquet\n",
      "✅ already in S3: eli5_sae_features-train-00013-of-00055.parquet\n",
      "✅ already in S3: eli5_sae_features-train-00032-of-00055.parquet\n",
      "✅ already in S3: eli5_sae_features-train-00008-of-00055.parquet\n",
      "✅ already in S3: eli5_sae_features-train-00036-of-00055.parquet\n",
      "✅ already in S3: eli5_sae_features-train-00053-of-00055.parquet\n",
      "✅ already in S3: eli5_sae_features-train-00017-of-00055.parquet\n",
      "✅ already in S3: eli5_sae_features-train-00029-of-00055.parquet\n",
      "✅ already in S3: eli5_sae_features-train-00003-of-00055.parquet\n",
      "✅ already in S3: eli5_sae_features-train-00022-of-00055.parquet\n",
      "✅ already in S3: eli5_sae_features-train-00047-of-00055.parquet\n",
      "✅ already in S3: eli5_sae_features-train-00038-of-00055.parquet\n",
      "✅ already in S3: eli5_sae_features-train-00006-of-00055.parquet\n",
      "✅ already in S3: eli5_sae_features-train-00042-of-00055.parquet\n",
      "✅ already in S3: eli5_sae_features-train-00027-of-00055.parquet\n",
      "✅ already in S3: eli5_sae_features-train-00019-of-00055.parquet\n",
      "✅ already in S3: eli5_sae_features-train-00033-of-00055.parquet\n",
      "✅ already in S3: eli5_sae_features-train-00012-of-00055.parquet\n",
      "✅ already in S3: eli5_sae_features-train-00049-of-00055.parquet\n",
      "✅ already in S3: eli5_sae_features-train-00016-of-00055.parquet\n",
      "✅ already in S3: eli5_sae_features-train-00028-of-00055.parquet\n",
      "✅ already in S3: eli5_sae_features-train-00052-of-00055.parquet\n",
      "✅ already in S3: eli5_sae_features-train-00009-of-00055.parquet\n",
      "✅ already in S3: eli5_sae_features-train-00037-of-00055.parquet\n",
      "✅ already in S3: eli5_sae_features-train-00046-of-00055.parquet\n",
      "Uploading: eli5_sae_features-train-00023-of-00055.parquet\n"
     ]
    },
    {
     "ename": "OSError",
     "evalue": "[Errno 5] An error occurred (524) when calling the UploadPart operation: ",
     "output_type": "error",
     "traceback": [
      "\u001b[31m---------------------------------------------------------------------------\u001b[39m",
      "\u001b[31mClientError\u001b[39m                               Traceback (most recent call last)",
      "\u001b[36mFile \u001b[39m\u001b[32m~/Code/SAE/sae-env/lib/python3.11/site-packages/s3fs/core.py:114\u001b[39m, in \u001b[36m_error_wrapper\u001b[39m\u001b[34m(func, args, kwargs, retries)\u001b[39m\n\u001b[32m    113\u001b[39m \u001b[38;5;28;01mtry\u001b[39;00m:\n\u001b[32m--> \u001b[39m\u001b[32m114\u001b[39m     \u001b[38;5;28;01mreturn\u001b[39;00m \u001b[38;5;28;01mawait\u001b[39;00m func(*args, **kwargs)\n\u001b[32m    115\u001b[39m \u001b[38;5;28;01mexcept\u001b[39;00m S3_RETRYABLE_ERRORS \u001b[38;5;28;01mas\u001b[39;00m e:\n",
      "\u001b[36mFile \u001b[39m\u001b[32m~/Code/SAE/sae-env/lib/python3.11/site-packages/aiobotocore/context.py:36\u001b[39m, in \u001b[36mwith_current_context.<locals>.decorator.<locals>.wrapper\u001b[39m\u001b[34m(*args, **kwargs)\u001b[39m\n\u001b[32m     35\u001b[39m     \u001b[38;5;28;01mawait\u001b[39;00m resolve_awaitable(hook())\n\u001b[32m---> \u001b[39m\u001b[32m36\u001b[39m \u001b[38;5;28;01mreturn\u001b[39;00m \u001b[38;5;28;01mawait\u001b[39;00m func(*args, **kwargs)\n",
      "\u001b[36mFile \u001b[39m\u001b[32m~/Code/SAE/sae-env/lib/python3.11/site-packages/aiobotocore/client.py:424\u001b[39m, in \u001b[36mAioBaseClient._make_api_call\u001b[39m\u001b[34m(self, operation_name, api_params)\u001b[39m\n\u001b[32m    423\u001b[39m     error_class = \u001b[38;5;28mself\u001b[39m.exceptions.from_code(error_code)\n\u001b[32m--> \u001b[39m\u001b[32m424\u001b[39m     \u001b[38;5;28;01mraise\u001b[39;00m error_class(parsed_response, operation_name)\n\u001b[32m    425\u001b[39m \u001b[38;5;28;01melse\u001b[39;00m:\n",
      "\u001b[31mClientError\u001b[39m: An error occurred (524) when calling the UploadPart operation: ",
      "\nThe above exception was the direct cause of the following exception:\n",
      "\u001b[31mOSError\u001b[39m                                   Traceback (most recent call last)",
      "\u001b[36mCell\u001b[39m\u001b[36m \u001b[39m\u001b[32mIn[2]\u001b[39m\u001b[32m, line 50\u001b[39m\n\u001b[32m     48\u001b[39m         \u001b[38;5;66;03m# upload in one shot to avoid multipart errors\u001b[39;00m\n\u001b[32m     49\u001b[39m         \u001b[38;5;28mprint\u001b[39m(\u001b[33m\"\u001b[39m\u001b[33mUploading:\u001b[39m\u001b[33m\"\u001b[39m, rel_path)\n\u001b[32m---> \u001b[39m\u001b[32m50\u001b[39m         \u001b[43mfs\u001b[49m\u001b[43m.\u001b[49m\u001b[43mput\u001b[49m\u001b[43m(\u001b[49m\u001b[43mlocal_path\u001b[49m\u001b[43m,\u001b[49m\u001b[43m \u001b[49m\u001b[43ms3_path\u001b[49m\u001b[43m,\u001b[49m\u001b[43m \u001b[49m\u001b[43muse_put\u001b[49m\u001b[43m=\u001b[49m\u001b[38;5;28;43;01mTrue\u001b[39;49;00m\u001b[43m)\u001b[49m\n\u001b[32m     52\u001b[39m \u001b[38;5;66;03m# 5. clean up local\u001b[39;00m\n\u001b[32m     53\u001b[39m \u001b[38;5;28mprint\u001b[39m(\u001b[33m\"\u001b[39m\u001b[33mRemoving local files…\u001b[39m\u001b[33m\"\u001b[39m)\n",
      "\u001b[36mFile \u001b[39m\u001b[32m~/Code/SAE/sae-env/lib/python3.11/site-packages/fsspec/asyn.py:118\u001b[39m, in \u001b[36msync_wrapper.<locals>.wrapper\u001b[39m\u001b[34m(*args, **kwargs)\u001b[39m\n\u001b[32m    115\u001b[39m \u001b[38;5;129m@functools\u001b[39m.wraps(func)\n\u001b[32m    116\u001b[39m \u001b[38;5;28;01mdef\u001b[39;00m\u001b[38;5;250m \u001b[39m\u001b[34mwrapper\u001b[39m(*args, **kwargs):\n\u001b[32m    117\u001b[39m     \u001b[38;5;28mself\u001b[39m = obj \u001b[38;5;129;01mor\u001b[39;00m args[\u001b[32m0\u001b[39m]\n\u001b[32m--> \u001b[39m\u001b[32m118\u001b[39m     \u001b[38;5;28;01mreturn\u001b[39;00m \u001b[43msync\u001b[49m\u001b[43m(\u001b[49m\u001b[38;5;28;43mself\u001b[39;49m\u001b[43m.\u001b[49m\u001b[43mloop\u001b[49m\u001b[43m,\u001b[49m\u001b[43m \u001b[49m\u001b[43mfunc\u001b[49m\u001b[43m,\u001b[49m\u001b[43m \u001b[49m\u001b[43m*\u001b[49m\u001b[43margs\u001b[49m\u001b[43m,\u001b[49m\u001b[43m \u001b[49m\u001b[43m*\u001b[49m\u001b[43m*\u001b[49m\u001b[43mkwargs\u001b[49m\u001b[43m)\u001b[49m\n",
      "\u001b[36mFile \u001b[39m\u001b[32m~/Code/SAE/sae-env/lib/python3.11/site-packages/fsspec/asyn.py:103\u001b[39m, in \u001b[36msync\u001b[39m\u001b[34m(loop, func, timeout, *args, **kwargs)\u001b[39m\n\u001b[32m    101\u001b[39m     \u001b[38;5;28;01mraise\u001b[39;00m FSTimeoutError \u001b[38;5;28;01mfrom\u001b[39;00m\u001b[38;5;250m \u001b[39m\u001b[34;01mreturn_result\u001b[39;00m\n\u001b[32m    102\u001b[39m \u001b[38;5;28;01melif\u001b[39;00m \u001b[38;5;28misinstance\u001b[39m(return_result, \u001b[38;5;167;01mBaseException\u001b[39;00m):\n\u001b[32m--> \u001b[39m\u001b[32m103\u001b[39m     \u001b[38;5;28;01mraise\u001b[39;00m return_result\n\u001b[32m    104\u001b[39m \u001b[38;5;28;01melse\u001b[39;00m:\n\u001b[32m    105\u001b[39m     \u001b[38;5;28;01mreturn\u001b[39;00m return_result\n",
      "\u001b[36mFile \u001b[39m\u001b[32m~/Code/SAE/sae-env/lib/python3.11/site-packages/fsspec/asyn.py:56\u001b[39m, in \u001b[36m_runner\u001b[39m\u001b[34m(event, coro, result, timeout)\u001b[39m\n\u001b[32m     54\u001b[39m     coro = asyncio.wait_for(coro, timeout=timeout)\n\u001b[32m     55\u001b[39m \u001b[38;5;28;01mtry\u001b[39;00m:\n\u001b[32m---> \u001b[39m\u001b[32m56\u001b[39m     result[\u001b[32m0\u001b[39m] = \u001b[38;5;28;01mawait\u001b[39;00m coro\n\u001b[32m     57\u001b[39m \u001b[38;5;28;01mexcept\u001b[39;00m \u001b[38;5;167;01mException\u001b[39;00m \u001b[38;5;28;01mas\u001b[39;00m ex:\n\u001b[32m     58\u001b[39m     result[\u001b[32m0\u001b[39m] = ex\n",
      "\u001b[36mFile \u001b[39m\u001b[32m~/Code/SAE/sae-env/lib/python3.11/site-packages/fsspec/asyn.py:592\u001b[39m, in \u001b[36mAsyncFileSystem._put\u001b[39m\u001b[34m(self, lpath, rpath, recursive, callback, batch_size, maxdepth, **kwargs)\u001b[39m\n\u001b[32m    589\u001b[39m     put_file = callback.branch_coro(\u001b[38;5;28mself\u001b[39m._put_file)\n\u001b[32m    590\u001b[39m     coros.append(put_file(lfile, rfile, **kwargs))\n\u001b[32m--> \u001b[39m\u001b[32m592\u001b[39m \u001b[38;5;28;01mreturn\u001b[39;00m \u001b[38;5;28;01mawait\u001b[39;00m _run_coros_in_chunks(\n\u001b[32m    593\u001b[39m     coros, batch_size=batch_size, callback=callback\n\u001b[32m    594\u001b[39m )\n",
      "\u001b[36mFile \u001b[39m\u001b[32m~/Code/SAE/sae-env/lib/python3.11/site-packages/fsspec/asyn.py:267\u001b[39m, in \u001b[36m_run_coros_in_chunks\u001b[39m\u001b[34m(coros, batch_size, callback, timeout, return_exceptions, nofiles)\u001b[39m\n\u001b[32m    265\u001b[39m     done, pending = \u001b[38;5;28;01mawait\u001b[39;00m asyncio.wait(pending, return_when=asyncio.FIRST_COMPLETED)\n\u001b[32m    266\u001b[39m     \u001b[38;5;28;01mwhile\u001b[39;00m done:\n\u001b[32m--> \u001b[39m\u001b[32m267\u001b[39m         result, k = \u001b[38;5;28;01mawait\u001b[39;00m done.pop()\n\u001b[32m    268\u001b[39m         results[k] = result\n\u001b[32m    270\u001b[39m \u001b[38;5;28;01mreturn\u001b[39;00m results\n",
      "\u001b[36mFile \u001b[39m\u001b[32m~/Code/SAE/sae-env/lib/python3.11/site-packages/fsspec/asyn.py:244\u001b[39m, in \u001b[36m_run_coros_in_chunks.<locals>._run_coro\u001b[39m\u001b[34m(coro, i)\u001b[39m\n\u001b[32m    242\u001b[39m \u001b[38;5;28;01masync\u001b[39;00m \u001b[38;5;28;01mdef\u001b[39;00m\u001b[38;5;250m \u001b[39m\u001b[34m_run_coro\u001b[39m(coro, i):\n\u001b[32m    243\u001b[39m     \u001b[38;5;28;01mtry\u001b[39;00m:\n\u001b[32m--> \u001b[39m\u001b[32m244\u001b[39m         \u001b[38;5;28;01mreturn\u001b[39;00m \u001b[38;5;28;01mawait\u001b[39;00m asyncio.wait_for(coro, timeout=timeout), i\n\u001b[32m    245\u001b[39m     \u001b[38;5;28;01mexcept\u001b[39;00m \u001b[38;5;167;01mException\u001b[39;00m \u001b[38;5;28;01mas\u001b[39;00m e:\n\u001b[32m    246\u001b[39m         \u001b[38;5;28;01mif\u001b[39;00m \u001b[38;5;129;01mnot\u001b[39;00m return_exceptions:\n",
      "\u001b[36mFile \u001b[39m\u001b[32m/opt/homebrew/Cellar/python@3.11/3.11.13/Frameworks/Python.framework/Versions/3.11/lib/python3.11/asyncio/tasks.py:452\u001b[39m, in \u001b[36mwait_for\u001b[39m\u001b[34m(fut, timeout)\u001b[39m\n\u001b[32m    449\u001b[39m loop = events.get_running_loop()\n\u001b[32m    451\u001b[39m \u001b[38;5;28;01mif\u001b[39;00m timeout \u001b[38;5;129;01mis\u001b[39;00m \u001b[38;5;28;01mNone\u001b[39;00m:\n\u001b[32m--> \u001b[39m\u001b[32m452\u001b[39m     \u001b[38;5;28;01mreturn\u001b[39;00m \u001b[38;5;28;01mawait\u001b[39;00m fut\n\u001b[32m    454\u001b[39m \u001b[38;5;28;01mif\u001b[39;00m timeout <= \u001b[32m0\u001b[39m:\n\u001b[32m    455\u001b[39m     fut = ensure_future(fut, loop=loop)\n",
      "\u001b[36mFile \u001b[39m\u001b[32m~/Code/SAE/sae-env/lib/python3.11/site-packages/fsspec/callbacks.py:81\u001b[39m, in \u001b[36mCallback.branch_coro.<locals>.func\u001b[39m\u001b[34m(path1, path2, **kwargs)\u001b[39m\n\u001b[32m     78\u001b[39m \u001b[38;5;129m@wraps\u001b[39m(fn)\n\u001b[32m     79\u001b[39m \u001b[38;5;28;01masync\u001b[39;00m \u001b[38;5;28;01mdef\u001b[39;00m\u001b[38;5;250m \u001b[39m\u001b[34mfunc\u001b[39m(path1, path2: \u001b[38;5;28mstr\u001b[39m, **kwargs):\n\u001b[32m     80\u001b[39m     \u001b[38;5;28;01mwith\u001b[39;00m \u001b[38;5;28mself\u001b[39m.branched(path1, path2, **kwargs) \u001b[38;5;28;01mas\u001b[39;00m child:\n\u001b[32m---> \u001b[39m\u001b[32m81\u001b[39m         \u001b[38;5;28;01mreturn\u001b[39;00m \u001b[38;5;28;01mawait\u001b[39;00m fn(path1, path2, callback=child, **kwargs)\n",
      "\u001b[36mFile \u001b[39m\u001b[32m~/Code/SAE/sae-env/lib/python3.11/site-packages/s3fs/core.py:1274\u001b[39m, in \u001b[36mS3FileSystem._put_file\u001b[39m\u001b[34m(self, lpath, rpath, callback, chunksize, max_concurrency, mode, **kwargs)\u001b[39m\n\u001b[32m   1270\u001b[39m mpu = \u001b[38;5;28;01mawait\u001b[39;00m \u001b[38;5;28mself\u001b[39m._call_s3(\n\u001b[32m   1271\u001b[39m     \u001b[33m\"\u001b[39m\u001b[33mcreate_multipart_upload\u001b[39m\u001b[33m\"\u001b[39m, Bucket=bucket, Key=key, **kwargs\n\u001b[32m   1272\u001b[39m )\n\u001b[32m   1273\u001b[39m \u001b[38;5;28;01mtry\u001b[39;00m:\n\u001b[32m-> \u001b[39m\u001b[32m1274\u001b[39m     out = \u001b[38;5;28;01mawait\u001b[39;00m \u001b[38;5;28mself\u001b[39m._upload_file_part_concurrent(\n\u001b[32m   1275\u001b[39m         bucket,\n\u001b[32m   1276\u001b[39m         key,\n\u001b[32m   1277\u001b[39m         mpu,\n\u001b[32m   1278\u001b[39m         f0,\n\u001b[32m   1279\u001b[39m         callback=callback,\n\u001b[32m   1280\u001b[39m         chunksize=chunksize,\n\u001b[32m   1281\u001b[39m         max_concurrency=max_concurrency,\n\u001b[32m   1282\u001b[39m     )\n\u001b[32m   1283\u001b[39m     parts = [\n\u001b[32m   1284\u001b[39m         {\u001b[33m\"\u001b[39m\u001b[33mPartNumber\u001b[39m\u001b[33m\"\u001b[39m: i + \u001b[32m1\u001b[39m, \u001b[33m\"\u001b[39m\u001b[33mETag\u001b[39m\u001b[33m\"\u001b[39m: o[\u001b[33m\"\u001b[39m\u001b[33mETag\u001b[39m\u001b[33m\"\u001b[39m]}\n\u001b[32m   1285\u001b[39m         \u001b[38;5;28;01mfor\u001b[39;00m i, o \u001b[38;5;129;01min\u001b[39;00m \u001b[38;5;28menumerate\u001b[39m(out)\n\u001b[32m   1286\u001b[39m     ]\n\u001b[32m   1287\u001b[39m     \u001b[38;5;28;01mawait\u001b[39;00m \u001b[38;5;28mself\u001b[39m._call_s3(\n\u001b[32m   1288\u001b[39m         \u001b[33m\"\u001b[39m\u001b[33mcomplete_multipart_upload\u001b[39m\u001b[33m\"\u001b[39m,\n\u001b[32m   1289\u001b[39m         Bucket=bucket,\n\u001b[32m   (...)\u001b[39m\u001b[32m   1293\u001b[39m         **match,\n\u001b[32m   1294\u001b[39m     )\n",
      "\u001b[36mFile \u001b[39m\u001b[32m~/Code/SAE/sae-env/lib/python3.11/site-packages/s3fs/core.py:1338\u001b[39m, in \u001b[36mS3FileSystem._upload_file_part_concurrent\u001b[39m\u001b[34m(self, bucket, key, mpu, f0, callback, chunksize, max_concurrency)\u001b[39m\n\u001b[32m   1335\u001b[39m     \u001b[38;5;28;01mif\u001b[39;00m \u001b[38;5;129;01mnot\u001b[39;00m chunks:\n\u001b[32m   1336\u001b[39m         \u001b[38;5;28;01mbreak\u001b[39;00m\n\u001b[32m   1337\u001b[39m     out.extend(\n\u001b[32m-> \u001b[39m\u001b[32m1338\u001b[39m         \u001b[38;5;28;01mawait\u001b[39;00m asyncio.gather(\n\u001b[32m   1339\u001b[39m             *[\n\u001b[32m   1340\u001b[39m                 _upload_chunk(chunk, \u001b[38;5;28mlen\u001b[39m(out) + i)\n\u001b[32m   1341\u001b[39m                 \u001b[38;5;28;01mfor\u001b[39;00m i, chunk \u001b[38;5;129;01min\u001b[39;00m \u001b[38;5;28menumerate\u001b[39m(chunks, \u001b[32m1\u001b[39m)\n\u001b[32m   1342\u001b[39m             ]\n\u001b[32m   1343\u001b[39m         )\n\u001b[32m   1344\u001b[39m     )\n\u001b[32m   1345\u001b[39m \u001b[38;5;28;01mreturn\u001b[39;00m out\n",
      "\u001b[36mFile \u001b[39m\u001b[32m~/Code/SAE/sae-env/lib/python3.11/site-packages/s3fs/core.py:1317\u001b[39m, in \u001b[36mS3FileSystem._upload_file_part_concurrent.<locals>._upload_chunk\u001b[39m\u001b[34m(chunk, part_number)\u001b[39m\n\u001b[32m   1316\u001b[39m \u001b[38;5;28;01masync\u001b[39;00m \u001b[38;5;28;01mdef\u001b[39;00m\u001b[38;5;250m \u001b[39m\u001b[34m_upload_chunk\u001b[39m(chunk, part_number):\n\u001b[32m-> \u001b[39m\u001b[32m1317\u001b[39m     result = \u001b[38;5;28;01mawait\u001b[39;00m \u001b[38;5;28mself\u001b[39m._call_s3(\n\u001b[32m   1318\u001b[39m         \u001b[33m\"\u001b[39m\u001b[33mupload_part\u001b[39m\u001b[33m\"\u001b[39m,\n\u001b[32m   1319\u001b[39m         Bucket=bucket,\n\u001b[32m   1320\u001b[39m         PartNumber=part_number,\n\u001b[32m   1321\u001b[39m         UploadId=mpu[\u001b[33m\"\u001b[39m\u001b[33mUploadId\u001b[39m\u001b[33m\"\u001b[39m],\n\u001b[32m   1322\u001b[39m         Body=chunk,\n\u001b[32m   1323\u001b[39m         Key=key,\n\u001b[32m   1324\u001b[39m     )\n\u001b[32m   1325\u001b[39m     callback.relative_update(\u001b[38;5;28mlen\u001b[39m(chunk))\n\u001b[32m   1326\u001b[39m     \u001b[38;5;28;01mreturn\u001b[39;00m result\n",
      "\u001b[36mFile \u001b[39m\u001b[32m~/Code/SAE/sae-env/lib/python3.11/site-packages/s3fs/core.py:371\u001b[39m, in \u001b[36mS3FileSystem._call_s3\u001b[39m\u001b[34m(self, method, *akwarglist, **kwargs)\u001b[39m\n\u001b[32m    369\u001b[39m logger.debug(\u001b[33m\"\u001b[39m\u001b[33mCALL: \u001b[39m\u001b[38;5;132;01m%s\u001b[39;00m\u001b[33m - \u001b[39m\u001b[38;5;132;01m%s\u001b[39;00m\u001b[33m - \u001b[39m\u001b[38;5;132;01m%s\u001b[39;00m\u001b[33m\"\u001b[39m, method.\u001b[34m__name__\u001b[39m, akwarglist, kw2)\n\u001b[32m    370\u001b[39m additional_kwargs = \u001b[38;5;28mself\u001b[39m._get_s3_method_kwargs(method, *akwarglist, **kwargs)\n\u001b[32m--> \u001b[39m\u001b[32m371\u001b[39m \u001b[38;5;28;01mreturn\u001b[39;00m \u001b[38;5;28;01mawait\u001b[39;00m _error_wrapper(\n\u001b[32m    372\u001b[39m     method, kwargs=additional_kwargs, retries=\u001b[38;5;28mself\u001b[39m.retries\n\u001b[32m    373\u001b[39m )\n",
      "\u001b[36mFile \u001b[39m\u001b[32m~/Code/SAE/sae-env/lib/python3.11/site-packages/s3fs/core.py:146\u001b[39m, in \u001b[36m_error_wrapper\u001b[39m\u001b[34m(func, args, kwargs, retries)\u001b[39m\n\u001b[32m    144\u001b[39m         err = e\n\u001b[32m    145\u001b[39m err = translate_boto_error(err)\n\u001b[32m--> \u001b[39m\u001b[32m146\u001b[39m \u001b[38;5;28;01mraise\u001b[39;00m err\n",
      "\u001b[31mOSError\u001b[39m: [Errno 5] An error occurred (524) when calling the UploadPart operation: "
     ]
    }
   ],
   "source": [
    "# hf_to_s3.py\n",
    "\n",
    "from dotenv import load_dotenv\n",
    "import os\n",
    "import shutil\n",
    "import s3fs\n",
    "from datasets import load_dataset_builder\n",
    "\n",
    "# 0. load .env\n",
    "load_dotenv()\n",
    "\n",
    "# 1. S3 creds + endpoint/region\n",
    "storage_options = {\n",
    "    \"key\": os.getenv(\"AWS_ACCESS_KEY_ID\"),\n",
    "    \"secret\": os.getenv(\"AWS_SECRET_ACCESS_KEY\"),\n",
    "    \"client_kwargs\": {\n",
    "        \"endpoint_url\": os.getenv(\"AWS_ENDPOINT_URL\"),\n",
    "        \"region_name\": \"US-KS-2\"\n",
    "    }\n",
    "}\n",
    "fs = s3fs.S3FileSystem(**storage_options)\n",
    "\n",
    "# 2. paths & IDs\n",
    "dataset_id = \"mksethi/eli5_sae_features\"\n",
    "local_dir  = \"./eli5_sae_features_parquet\"\n",
    "s3_prefix  = \"s3://twzsyl285j/eli5_sae_features_parquet/\"\n",
    "\n",
    "# 3. download locally\n",
    "print(\"Downloading to local disk…\")\n",
    "builder = load_dataset_builder(dataset_id)\n",
    "builder.download_and_prepare(local_dir, file_format=\"parquet\")\n",
    "\n",
    "# 4. upload every file under local_dir to S3\n",
    "print(\"Uploading to S3…\")\n",
    "for root, _, files in os.walk(local_dir):\n",
    "    for fname in files:\n",
    "        if not fname.endswith(\".parquet\"):\n",
    "            continue\n",
    "        local_path = os.path.join(root, fname)\n",
    "        rel_path   = os.path.relpath(local_path, local_dir).replace(os.sep, \"/\")\n",
    "        s3_path    = f\"{s3_prefix}{rel_path}\"\n",
    "\n",
    "        # skip if already uploaded\n",
    "        if fs.exists(s3_path):\n",
    "            print(\"✅ already in S3:\", rel_path)\n",
    "            continue\n",
    "\n",
    "        # upload in one shot to avoid multipart errors\n",
    "        print(\"Uploading:\", rel_path)\n",
    "        fs.put(local_path, s3_path, use_put=True)\n",
    "\n",
    "# 5. clean up local\n",
    "print(\"Removing local files…\")\n",
    "shutil.rmtree(local_dir)\n",
    "\n",
    "print(\"All done ✅\")\n"
   ]
  },
  {
   "cell_type": "code",
   "execution_count": 2,
   "metadata": {},
   "outputs": [],
   "source": [
    "from transformers import AutoModel, AutoTokenizer\n",
    "\n",
    "\n",
    "model = AutoModel.from_pretrained(\"mksethi/gpt2-query2sae\", trust_remote_code=True)\n",
    "tokenizer = AutoTokenizer.from_pretrained(\"gpt2\")   "
   ]
  },
  {
   "cell_type": "code",
   "execution_count": 15,
   "metadata": {},
   "outputs": [],
   "source": [
    "text = \"What is the weather in Hong Kong Like?\"\n",
    "\n",
    "tokenizer.add_special_tokens({'pad_token': '[PAD]'})\n",
    "encoded = tokenizer(text, max_length=256, padding='max_length', return_tensors='pt')"
   ]
  },
  {
   "cell_type": "code",
   "execution_count": 11,
   "metadata": {},
   "outputs": [
    {
     "data": {
      "text/plain": [
       "2"
      ]
     },
     "execution_count": 11,
     "metadata": {},
     "output_type": "execute_result"
    }
   ],
   "source": [
    "len(encoded)"
   ]
  },
  {
   "cell_type": "code",
   "execution_count": 13,
   "metadata": {},
   "outputs": [
    {
     "data": {
      "text/plain": [
       "256"
      ]
     },
     "execution_count": 13,
     "metadata": {},
     "output_type": "execute_result"
    }
   ],
   "source": []
  },
  {
   "cell_type": "code",
   "execution_count": 16,
   "metadata": {},
   "outputs": [],
   "source": [
    "out = model(**encoded)"
   ]
  },
  {
   "cell_type": "code",
   "execution_count": 18,
   "metadata": {},
   "outputs": [
    {
     "ename": "NameError",
     "evalue": "name 'torch' is not defined",
     "output_type": "error",
     "traceback": [
      "\u001b[31m---------------------------------------------------------------------------\u001b[39m",
      "\u001b[31mNameError\u001b[39m                                 Traceback (most recent call last)",
      "\u001b[36mCell\u001b[39m\u001b[36m \u001b[39m\u001b[32mIn[18]\u001b[39m\u001b[32m, line 1\u001b[39m\n\u001b[32m----> \u001b[39m\u001b[32m1\u001b[39m \u001b[38;5;28;01mwith\u001b[39;00m \u001b[43mtorch\u001b[49m.no_grad():\n\u001b[32m      2\u001b[39m     model(**\u001b[38;5;28minput\u001b[39m)\n",
      "\u001b[31mNameError\u001b[39m: name 'torch' is not defined"
     ]
    }
   ],
   "source": [
    "with torch.no_grad():\n",
    "    model(**input)"
   ]
  },
  {
   "cell_type": "code",
   "execution_count": null,
   "metadata": {},
   "outputs": [],
   "source": []
  }
 ],
 "metadata": {
  "kernelspec": {
   "display_name": "sae-env",
   "language": "python",
   "name": "python3"
  },
  "language_info": {
   "codemirror_mode": {
    "name": "ipython",
    "version": 3
   },
   "file_extension": ".py",
   "mimetype": "text/x-python",
   "name": "python",
   "nbconvert_exporter": "python",
   "pygments_lexer": "ipython3",
   "version": "3.11.13"
  },
  "orig_nbformat": 4
 },
 "nbformat": 4,
 "nbformat_minor": 2
}
