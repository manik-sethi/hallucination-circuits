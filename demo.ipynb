{
 "cells": [
  {
   "cell_type": "code",
   "execution_count": null,
   "metadata": {},
   "outputs": [],
   "source": [
    "import numpy as np\n",
    "import os\n",
    "from dotenv import load_dotenv, find_dotenv"
   ]
  },
  {
   "cell_type": "code",
   "execution_count": 108,
   "metadata": {},
   "outputs": [],
   "source": [
    "load_dotenv(dotenv_path=\".env\")\n",
    "api_key = os.getenv('GOODFIRE_API_KEY')"
   ]
  },
  {
   "cell_type": "code",
   "execution_count": 109,
   "metadata": {},
   "outputs": [
    {
     "name": "stdout",
     "output_type": "stream",
     "text": [
      "Variant(\n",
      "   base_model=meta-llama/Meta-Llama-3.1-8B-Instruct,\n",
      "   edits={\n",
      "   }\n",
      "   scopes={\n",
      "   }\n",
      ")\n"
     ]
    }
   ],
   "source": [
    "import goodfire\n",
    "client = goodfire.Client(api_key=api_key)\n",
    "\n",
    "variant = goodfire.Variant(\"meta-llama/Meta-Llama-3.1-8B-Instruct\")\n",
    "\n",
    "\n",
    "# edits = client.features.AutoSteer(\n",
    "#     # specification=\"Talk with a lot of puns\",\n",
    "#     model = variant\n",
    "# )\n",
    "print(variant)\n",
    "\n"
   ]
  },
  {
   "cell_type": "markdown",
   "metadata": {},
   "source": [
    "# FORWARD PASSES"
   ]
  },
  {
   "cell_type": "code",
   "execution_count": 20,
   "metadata": {},
   "outputs": [],
   "source": [
    "output = client.chat.completions.create(\n",
    "    [{\"role\": \"user\", \"content\": \"Tell me about godzilla\"}],\n",
    "    model = variant,\n",
    "    stream = True,\n",
    "    max_completion_tokens=80\n",
    ")"
   ]
  },
  {
   "cell_type": "code",
   "execution_count": 53,
   "metadata": {},
   "outputs": [],
   "source": [
    "act = client.features.activations([{\"role\": \"user\", \"content\": message_text}], model=variant)"
   ]
  },
  {
   "cell_type": "code",
   "execution_count": 63,
   "metadata": {},
   "outputs": [],
   "source": [
    "inspector = client.features.inspect(msgs, model=variant, aggregate_by=\"sum\")"
   ]
  },
  {
   "cell_type": "markdown",
   "metadata": {},
   "source": [
    "---"
   ]
  },
  {
   "cell_type": "code",
   "execution_count": 21,
   "metadata": {},
   "outputs": [],
   "source": [
    "chunks = list(output)"
   ]
  },
  {
   "cell_type": "code",
   "execution_count": 62,
   "metadata": {},
   "outputs": [
    {
     "data": {
      "text/plain": [
       "'Godzilla! The King of the Monsters. He\\'s a giant, fire-breathing, city-stomping reptile from Japanese legend. Created by Tomoyuki Tanaka in 1954, Godzilla was meant to be a metaphor for the atomic age and the fears of nuclear destruction.\\n\\nGodzilla\\'s real name is Gojira, and he\\'s often referred to as \"King Kong\\'s nemesis.\" He\\'s typically around 100-150 meters tall, with incredible strength and speed. He\\'s also highly resistant to radiation and can even withstand nuclear explosions.\\n\\nOver 65 years, there have'"
      ]
     },
     "execution_count": 62,
     "metadata": {},
     "output_type": "execute_result"
    }
   ],
   "source": [
    "role, message_text = extract_message(chunks)\n",
    "(message_text)"
   ]
  },
  {
   "cell_type": "code",
   "execution_count": 25,
   "metadata": {},
   "outputs": [
    {
     "name": "stdout",
     "output_type": "stream",
     "text": [
      "Godzilla! The King of the Monsters. He's a giant, fire-breathing, city-stomping reptile from Japanese legend. Created by Tomoyuki Tanaka in 1954, Godzilla was meant to be a metaphor for the atomic age and the fears of nuclear destruction.\n",
      "\n",
      "Godzilla's real name is Gojira, and he's often referred to as \"King Kong's nemesis.\" He's typically around 100-150 meters tall, with incredible strength and speed. He's also highly resistant to radiation and can even withstand nuclear explosions.\n",
      "\n",
      "Over 65 years, there have"
     ]
    }
   ],
   "source": [
    "full_text = []\n",
    "for ch in chunks:\n",
    "    delta = ch.choices[0].delta.content or \"\"\n",
    "    print(delta,end=\"\")\n",
    "    full_text.append(delta)\n",
    "text = \"\".join(full_text)"
   ]
  },
  {
   "cell_type": "code",
   "execution_count": 54,
   "metadata": {},
   "outputs": [
    {
     "data": {
      "text/plain": [
       "array([[0.        , 0.        , 0.        , 0.        , 0.        ],\n",
       "       [0.        , 0.        , 0.        , 0.        , 0.        ],\n",
       "       [0.        , 0.        , 0.        , 0.        , 0.        ],\n",
       "       [0.        , 0.        , 0.        , 0.        , 0.        ],\n",
       "       [0.        , 0.        , 0.        , 0.        , 0.        ],\n",
       "       [0.        , 0.        , 0.        , 0.        , 0.        ],\n",
       "       [0.        , 0.        , 0.        , 0.        , 0.        ],\n",
       "       [0.        , 0.        , 0.        , 0.        , 0.        ],\n",
       "       [0.        , 0.        , 0.        , 0.        , 0.        ],\n",
       "       [0.        , 0.        , 0.        , 0.        , 0.        ],\n",
       "       [0.        , 0.        , 0.        , 0.        , 0.        ],\n",
       "       [0.        , 0.        , 0.        , 0.        , 0.        ],\n",
       "       [0.        , 0.        , 0.        , 0.        , 0.        ],\n",
       "       [0.        , 0.        , 0.        , 0.        , 0.        ],\n",
       "       [0.        , 0.        , 0.        , 0.        , 0.        ],\n",
       "       [0.        , 0.        , 0.        , 0.        , 0.        ],\n",
       "       [0.        , 0.        , 0.        , 0.        , 0.        ],\n",
       "       [0.        , 0.        , 0.        , 0.        , 0.        ],\n",
       "       [0.        , 0.        , 0.        , 0.        , 0.        ],\n",
       "       [0.        , 0.        , 0.        , 0.        , 0.        ],\n",
       "       [0.        , 0.        , 0.        , 0.        , 0.        ],\n",
       "       [0.        , 0.        , 0.        , 0.        , 0.        ],\n",
       "       [0.        , 0.        , 0.        , 0.        , 0.        ],\n",
       "       [0.        , 0.        , 0.        , 0.        , 0.        ],\n",
       "       [0.        , 0.        , 0.        , 0.        , 0.        ],\n",
       "       [0.        , 0.        , 0.        , 0.        , 0.        ],\n",
       "       [0.        , 0.        , 0.        , 0.        , 0.        ],\n",
       "       [0.        , 0.        , 0.        , 0.        , 0.        ],\n",
       "       [0.        , 0.        , 0.        , 0.        , 0.        ],\n",
       "       [0.        , 0.        , 0.        , 0.        , 0.        ],\n",
       "       [0.        , 0.        , 0.        , 0.        , 0.        ],\n",
       "       [0.69140625, 0.        , 0.        , 0.        , 0.        ],\n",
       "       [0.50390625, 0.        , 0.        , 0.        , 0.        ],\n",
       "       [0.78515625, 0.        , 0.        , 0.        , 0.        ],\n",
       "       [0.3984375 , 0.        , 0.        , 0.        , 0.        ],\n",
       "       [0.37304688, 0.        , 0.        , 0.        , 0.        ],\n",
       "       [0.421875  , 0.        , 0.        , 0.        , 0.        ],\n",
       "       [0.5       , 0.        , 0.        , 0.        , 0.        ],\n",
       "       [0.35546875, 0.        , 0.        , 0.        , 0.        ],\n",
       "       [1.1171875 , 0.        , 0.        , 0.        , 0.        ],\n",
       "       [0.        , 0.        , 0.        , 0.        , 0.        ],\n",
       "       [0.828125  , 0.        , 0.        , 0.        , 0.        ],\n",
       "       [0.41015625, 0.        , 0.        , 0.        , 0.        ],\n",
       "       [0.6953125 , 0.        , 0.        , 0.        , 0.        ],\n",
       "       [0.        , 0.        , 0.        , 0.        , 0.        ],\n",
       "       [0.        , 0.        , 0.        , 0.        , 0.        ],\n",
       "       [0.47265625, 0.        , 0.        , 0.        , 0.        ],\n",
       "       [0.6875    , 0.        , 0.        , 0.        , 0.        ],\n",
       "       [0.        , 0.        , 0.        , 0.        , 0.        ],\n",
       "       [0.        , 0.        , 0.        , 0.        , 0.        ],\n",
       "       [1.0390625 , 0.        , 0.        , 0.        , 0.        ],\n",
       "       [1.0078125 , 0.        , 0.        , 0.        , 0.        ],\n",
       "       [0.        , 0.        , 0.        , 0.        , 0.        ],\n",
       "       [0.53515625, 0.        , 0.        , 0.        , 0.        ],\n",
       "       [0.        , 0.        , 0.        , 0.        , 0.        ],\n",
       "       [0.        , 0.        , 0.        , 0.        , 0.        ],\n",
       "       [0.        , 0.        , 0.        , 0.        , 0.        ],\n",
       "       [0.        , 0.        , 0.        , 0.        , 0.        ],\n",
       "       [0.        , 0.        , 0.        , 0.        , 0.        ],\n",
       "       [0.        , 0.        , 0.        , 0.        , 0.        ],\n",
       "       [0.        , 0.        , 0.        , 0.        , 0.        ],\n",
       "       [0.        , 0.        , 0.        , 0.        , 0.        ],\n",
       "       [0.        , 0.        , 0.        , 0.        , 0.        ],\n",
       "       [0.        , 0.        , 0.        , 0.        , 0.        ],\n",
       "       [0.        , 0.        , 0.        , 0.        , 0.        ],\n",
       "       [0.        , 0.        , 0.        , 0.        , 0.        ],\n",
       "       [0.        , 0.        , 0.        , 0.        , 0.        ],\n",
       "       [0.        , 0.38476562, 0.        , 0.        , 0.        ],\n",
       "       [0.        , 0.        , 0.        , 0.        , 0.        ],\n",
       "       [0.        , 0.        , 0.        , 0.        , 0.        ],\n",
       "       [0.54296875, 0.        , 0.        , 0.        , 0.        ],\n",
       "       [0.        , 0.        , 0.        , 0.        , 0.        ],\n",
       "       [0.        , 0.        , 0.        , 0.        , 0.        ],\n",
       "       [0.        , 0.        , 0.        , 0.        , 0.        ],\n",
       "       [0.        , 0.        , 0.        , 0.        , 0.        ],\n",
       "       [0.        , 0.        , 0.        , 0.        , 0.        ],\n",
       "       [0.        , 0.        , 0.        , 0.        , 0.        ],\n",
       "       [0.        , 0.        , 0.        , 0.        , 0.        ],\n",
       "       [0.        , 0.        , 0.        , 0.        , 0.        ],\n",
       "       [0.        , 0.        , 0.        , 0.        , 0.        ],\n",
       "       [0.        , 0.        , 0.        , 0.        , 0.        ],\n",
       "       [0.        , 0.        , 0.        , 0.        , 0.        ],\n",
       "       [0.        , 0.        , 0.        , 0.        , 0.        ],\n",
       "       [0.        , 0.        , 0.        , 0.        , 0.        ],\n",
       "       [0.        , 0.        , 0.        , 0.        , 0.        ],\n",
       "       [0.        , 0.        , 0.        , 0.        , 0.        ],\n",
       "       [0.        , 0.        , 0.        , 0.        , 0.        ],\n",
       "       [0.        , 0.        , 0.        , 0.        , 0.        ],\n",
       "       [0.        , 0.        , 0.        , 0.        , 0.        ],\n",
       "       [0.53515625, 0.        , 0.        , 0.        , 0.        ],\n",
       "       [0.        , 0.        , 0.        , 0.        , 0.        ],\n",
       "       [0.        , 0.        , 0.        , 0.        , 0.        ],\n",
       "       [0.        , 0.        , 0.        , 0.        , 0.        ],\n",
       "       [0.        , 0.        , 0.        , 0.        , 0.        ],\n",
       "       [0.        , 0.59765625, 0.        , 0.        , 0.        ],\n",
       "       [0.        , 0.61328125, 0.        , 0.        , 0.        ],\n",
       "       [0.        , 0.        , 0.        , 0.        , 0.        ],\n",
       "       [0.        , 0.        , 0.        , 0.        , 0.        ],\n",
       "       [0.        , 0.        , 0.        , 0.        , 0.        ],\n",
       "       [0.890625  , 0.        , 0.        , 0.        , 0.        ],\n",
       "       [0.        , 0.        , 0.        , 0.        , 0.        ],\n",
       "       [0.        , 0.        , 0.        , 0.        , 0.        ],\n",
       "       [0.        , 0.        , 0.        , 0.        , 0.        ],\n",
       "       [0.        , 0.        , 0.        , 0.89453125, 0.        ],\n",
       "       [0.69140625, 0.        , 0.        , 0.        , 0.        ],\n",
       "       [0.69140625, 0.        , 0.        , 0.        , 0.        ],\n",
       "       [0.34570312, 0.28515625, 0.        , 0.        , 0.        ],\n",
       "       [0.7890625 , 0.        , 0.        , 0.        , 0.        ],\n",
       "       [0.58984375, 0.        , 0.        , 0.        , 0.        ],\n",
       "       [0.        , 0.        , 0.        , 0.        , 0.        ],\n",
       "       [0.        , 0.        , 0.        , 0.        , 0.        ],\n",
       "       [0.        , 0.        , 0.        , 0.        , 0.        ],\n",
       "       [0.78125   , 0.        , 0.        , 0.        , 0.        ],\n",
       "       [0.        , 0.        , 0.        , 0.        , 0.        ],\n",
       "       [0.        , 0.        , 0.        , 0.        , 0.        ],\n",
       "       [0.38476562, 0.        , 0.        , 0.        , 0.        ],\n",
       "       [0.8984375 , 0.        , 0.        , 0.        , 0.        ],\n",
       "       [0.35546875, 0.        , 0.        , 0.        , 0.        ],\n",
       "       [0.453125  , 0.        , 0.        , 0.        , 0.        ],\n",
       "       [0.        , 0.        , 0.        , 0.        , 0.        ],\n",
       "       [0.46875   , 0.        , 0.        , 0.        , 0.        ],\n",
       "       [0.80859375, 0.        , 0.        , 0.        , 0.        ],\n",
       "       [0.828125  , 0.        , 0.        , 0.        , 0.        ],\n",
       "       [0.63671875, 0.        , 0.        , 0.        , 0.        ],\n",
       "       [0.703125  , 0.        , 0.        , 0.        , 0.        ],\n",
       "       [0.        , 0.        , 0.        , 0.        , 0.        ],\n",
       "       [0.        , 0.        , 0.        , 0.        , 0.        ],\n",
       "       [0.        , 0.        , 0.        , 0.        , 0.        ],\n",
       "       [0.        , 0.        , 0.        , 0.        , 0.        ],\n",
       "       [0.7109375 , 0.        , 0.        , 0.        , 0.        ],\n",
       "       [0.        , 0.        , 0.        , 0.        , 0.        ],\n",
       "       [0.        , 0.        , 0.        , 0.        , 0.        ],\n",
       "       [0.        , 0.        , 0.        , 0.        , 0.        ],\n",
       "       [0.        , 0.        , 0.        , 0.        , 0.        ],\n",
       "       [0.        , 0.        , 0.        , 0.        , 0.        ],\n",
       "       [0.        , 0.        , 0.        , 0.        , 0.        ],\n",
       "       [0.        , 0.        , 0.        , 0.        , 0.        ],\n",
       "       [0.        , 0.        , 0.        , 0.        , 0.        ],\n",
       "       [0.        , 0.        , 0.        , 0.        , 0.        ],\n",
       "       [0.        , 0.        , 0.        , 0.        , 0.        ],\n",
       "       [0.        , 0.        , 0.        , 0.        , 0.        ],\n",
       "       [0.        , 0.        , 0.        , 0.        , 0.        ],\n",
       "       [0.        , 0.        , 0.        , 0.        , 0.        ],\n",
       "       [0.        , 0.        , 0.        , 0.        , 0.        ],\n",
       "       [0.        , 0.        , 0.        , 0.        , 0.        ],\n",
       "       [0.        , 0.        , 0.        , 0.        , 0.        ],\n",
       "       [0.        , 0.        , 0.        , 0.        , 0.        ],\n",
       "       [0.        , 0.        , 0.        , 0.        , 0.        ],\n",
       "       [0.        , 0.        , 0.        , 0.        , 0.        ],\n",
       "       [0.        , 0.        , 0.        , 0.        , 0.        ],\n",
       "       [0.        , 0.        , 0.        , 0.        , 0.        ]])"
      ]
     },
     "execution_count": 54,
     "metadata": {},
     "output_type": "execute_result"
    }
   ],
   "source": [
    "features = client.features.search(\n",
    "    \"Godzilla\",\n",
    "    model = variant,\n",
    "    top_k=5\n",
    ")\n",
    "features\n",
    "cols = [f.index_in_sae for f in features]\n",
    "\n",
    "feat_act = act[:,cols]\n",
    "feat_act"
   ]
  },
  {
   "cell_type": "code",
   "execution_count": 48,
   "metadata": {},
   "outputs": [],
   "source": [
    "def extract_message(chunks, choice_idx=0):\n",
    "    role = \"assistant\"\n",
    "    parts = []\n",
    "    for ch in chunks:\n",
    "        delta = ch.choices[choice_idx].delta\n",
    "        if getattr(delta, \"role\", None):\n",
    "            role = delta.role\n",
    "        if getattr(delta, \"content\", None):\n",
    "            parts.append(delta.content)\n",
    "    text = \"\".join(parts)\n",
    "    return role, text"
   ]
  },
  {
   "cell_type": "code",
   "execution_count": 65,
   "metadata": {},
   "outputs": [],
   "source": [
    "tokens = inspector.tokens"
   ]
  },
  {
   "cell_type": "code",
   "execution_count": 75,
   "metadata": {},
   "outputs": [
    {
     "data": {
      "text/plain": [
       "[Token(\"<|begin_of_text|>\"),\n",
       " Token(\"<|start_header_id|>\"),\n",
       " Token(\"system\"),\n",
       " Token(\"<|end_header_id|>\"),\n",
       " Token(\"\n",
       " \n",
       " \"),\n",
       " Token(\"Cut\"),\n",
       " Token(\"ting\"),\n",
       " Token(\" Knowledge\"),\n",
       " Token(\" Date\"),\n",
       " Token(\":\"),\n",
       " Token(\" December\"),\n",
       " Token(\" \"),\n",
       " Token(\"202\"),\n",
       " Token(\"3\"),\n",
       " Token(\"\n",
       " \"),\n",
       " Token(\"Today\"),\n",
       " Token(\" Date\"),\n",
       " Token(\":\"),\n",
       " Token(\" \"),\n",
       " Token(\"26\"),\n",
       " Token(\" Jul\"),\n",
       " Token(\" \"),\n",
       " Token(\"202\"),\n",
       " Token(\"4\"),\n",
       " Token(\"\n",
       " \n",
       " \"),\n",
       " Token(\"<|eot_id|>\"),\n",
       " Token(\"<|start_header_id|>\"),\n",
       " Token(\"user\"),\n",
       " Token(\"<|end_header_id|>\"),\n",
       " Token(\"\n",
       " \n",
       " \"),\n",
       " Token(\"God\"),\n",
       " Token(\"zilla\"),\n",
       " Token(\"!\"),\n",
       " Token(\" The\"),\n",
       " Token(\" King\"),\n",
       " Token(\" of\"),\n",
       " Token(\" the\"),\n",
       " Token(\" Monsters\"),\n",
       " Token(\".\"),\n",
       " Token(\" He\"),\n",
       " Token(\"'s\"),\n",
       " Token(\" a\"),\n",
       " Token(\" giant\"),\n",
       " Token(\",\"),\n",
       " Token(\" fire\"),\n",
       " Token(\"-bre\"),\n",
       " Token(\"athing\"),\n",
       " Token(\",\"),\n",
       " Token(\" city\"),\n",
       " Token(\"-st\"),\n",
       " Token(\"om\"),\n",
       " Token(\"ping\"),\n",
       " Token(\" rept\"),\n",
       " Token(\"ile\"),\n",
       " Token(\" from\"),\n",
       " Token(\" Japanese\"),\n",
       " Token(\" legend\"),\n",
       " Token(\".\"),\n",
       " Token(\" Created\"),\n",
       " Token(\" by\"),\n",
       " Token(\" Tom\"),\n",
       " Token(\"oy\"),\n",
       " Token(\"uki\"),\n",
       " Token(\" Tan\"),\n",
       " Token(\"aka\"),\n",
       " Token(\" in\"),\n",
       " Token(\" \"),\n",
       " Token(\"195\"),\n",
       " Token(\"4\"),\n",
       " Token(\",\"),\n",
       " Token(\" Godzilla\"),\n",
       " Token(\" was\"),\n",
       " Token(\" meant\"),\n",
       " Token(\" to\"),\n",
       " Token(\" be\"),\n",
       " Token(\" a\"),\n",
       " Token(\" metaphor\"),\n",
       " Token(\" for\"),\n",
       " Token(\" the\"),\n",
       " Token(\" atomic\"),\n",
       " Token(\" age\"),\n",
       " Token(\" and\"),\n",
       " Token(\" the\"),\n",
       " Token(\" fears\"),\n",
       " Token(\" of\"),\n",
       " Token(\" nuclear\"),\n",
       " Token(\" destruction\"),\n",
       " Token(\".\n",
       " \n",
       " \"),\n",
       " Token(\"God\"),\n",
       " Token(\"zilla\"),\n",
       " Token(\"'s\"),\n",
       " Token(\" real\"),\n",
       " Token(\" name\"),\n",
       " Token(\" is\"),\n",
       " Token(\" Go\"),\n",
       " Token(\"j\"),\n",
       " Token(\"ira\"),\n",
       " Token(\",\"),\n",
       " Token(\" and\"),\n",
       " Token(\" he\"),\n",
       " Token(\"'s\"),\n",
       " Token(\" often\"),\n",
       " Token(\" referred\"),\n",
       " Token(\" to\"),\n",
       " Token(\" as\"),\n",
       " Token(\" \"\"),\n",
       " Token(\"King\"),\n",
       " Token(\" Kong\"),\n",
       " Token(\"'s\"),\n",
       " Token(\" nem\"),\n",
       " Token(\"esis\"),\n",
       " Token(\".\"\"),\n",
       " Token(\" He\"),\n",
       " Token(\"'s\"),\n",
       " Token(\" typically\"),\n",
       " Token(\" around\"),\n",
       " Token(\" \"),\n",
       " Token(\"100\"),\n",
       " Token(\"-\"),\n",
       " Token(\"150\"),\n",
       " Token(\" meters\"),\n",
       " Token(\" tall\"),\n",
       " Token(\",\"),\n",
       " Token(\" with\"),\n",
       " Token(\" incredible\"),\n",
       " Token(\" strength\"),\n",
       " Token(\" and\"),\n",
       " Token(\" speed\"),\n",
       " Token(\".\"),\n",
       " Token(\" He\"),\n",
       " Token(\"'s\"),\n",
       " Token(\" also\"),\n",
       " Token(\" highly\"),\n",
       " Token(\" resistant\"),\n",
       " Token(\" to\"),\n",
       " Token(\" radiation\"),\n",
       " Token(\" and\"),\n",
       " Token(\" can\"),\n",
       " Token(\" even\"),\n",
       " Token(\" withstand\"),\n",
       " Token(\" nuclear\"),\n",
       " Token(\" explosions\"),\n",
       " Token(\".\n",
       " \n",
       " \"),\n",
       " Token(\"Over\"),\n",
       " Token(\" \"),\n",
       " Token(\"65\"),\n",
       " Token(\" years\"),\n",
       " Token(\",\"),\n",
       " Token(\" there\"),\n",
       " Token(\" have\"),\n",
       " Token(\"<|eot_id|>\")]"
      ]
     },
     "execution_count": 75,
     "metadata": {},
     "output_type": "execute_result"
    }
   ],
   "source": [
    "tokens"
   ]
  },
  {
   "cell_type": "code",
   "execution_count": 69,
   "metadata": {},
   "outputs": [
    {
     "data": {
      "text/plain": [
       "FeatureActivations(\n",
       "   0: (Feature(\"Descriptions of physically imposing or giant characters\"), 22.927734375)\n",
       "   1: (Feature(\"Descriptions of antagonistic forces terrorizing others in narrative contexts\"), 22.474609375)\n",
       "   2: (Feature(\"Formal character descriptions listing multiple traits and attributes\"), 18.1015625)\n",
       "   3: (Feature(\"Movie titles and their metadata in catalogs and reviews\"), 17.107421875)\n",
       "   4: (Feature(\"Legal and procedural language describing official requirements\"), 10.482421875)\n",
       ")"
      ]
     },
     "execution_count": 69,
     "metadata": {},
     "output_type": "execute_result"
    }
   ],
   "source": [
    "inspector.top(5)"
   ]
  },
  {
   "cell_type": "code",
   "execution_count": 86,
   "metadata": {},
   "outputs": [],
   "source": [
    "neighbors =  client.features.search(\n",
    "    message_text[0:99],\n",
    "    model=variant,\n",
    "    top_k=5\n",
    ")\n",
    "\n",
    "# Get indices\n",
    "idx = []\n",
    "for neighbor in neighbors:\n",
    "    idx.append(neighbor.index_in_sae)\n",
    "\n",
    "\n",
    "look = client.features.lookup(indices=idx, model=variant)\n",
    "\n",
    "    "
   ]
  },
  {
   "cell_type": "code",
   "execution_count": 88,
   "metadata": {},
   "outputs": [
    {
     "name": "stdout",
     "output_type": "stream",
     "text": [
      "Feature(\"Giant robot (mecha) anime battle descriptions and explanations\")\n",
      "Feature(\"Descriptions of physically imposing or giant characters\")\n",
      "Feature(\"Fictional monsters and creatures across languages\")\n",
      "Feature(\"Entities that command both fear and respect\")\n",
      "Feature(\"Grandiose claims of power or authority, especially in roleplay contexts\")\n"
     ]
    }
   ],
   "source": [
    "for neighbor in neighbors:\n",
    "    print(neighbor)"
   ]
  },
  {
   "cell_type": "code",
   "execution_count": 90,
   "metadata": {},
   "outputs": [
    {
     "data": {
      "text/plain": [
       "{17962: Feature(\"Entities that command both fear and respect\"),\n",
       " 39030: Feature(\"Descriptions of physically imposing or giant characters\"),\n",
       " 30942: Feature(\"Fictional monsters and creatures across languages\"),\n",
       " 21417: Feature(\"Grandiose claims of power or authority, especially in roleplay contexts\"),\n",
       " 12636: Feature(\"Giant robot (mecha) anime battle descriptions and explanations\")}"
      ]
     },
     "execution_count": 90,
     "metadata": {},
     "output_type": "execute_result"
    }
   ],
   "source": [
    "look"
   ]
  },
  {
   "cell_type": "code",
   "execution_count": 97,
   "metadata": {},
   "outputs": [],
   "source": [
    "shai = act[:,idx]"
   ]
  },
  {
   "cell_type": "code",
   "execution_count": 102,
   "metadata": {},
   "outputs": [
    {
     "data": {
      "text/plain": [
       "array([ 1.88085938, 22.92773438,  6.86328125,  0.89453125,  0.        ])"
      ]
     },
     "execution_count": 102,
     "metadata": {},
     "output_type": "execute_result"
    }
   ],
   "source": [
    "np.sum(shai, axis=0)"
   ]
  },
  {
   "cell_type": "code",
   "execution_count": null,
   "metadata": {},
   "outputs": [],
   "source": []
  }
 ],
 "metadata": {
  "kernelspec": {
   "display_name": "SAEenv",
   "language": "python",
   "name": "python3"
  },
  "language_info": {
   "codemirror_mode": {
    "name": "ipython",
    "version": 3
   },
   "file_extension": ".py",
   "mimetype": "text/x-python",
   "name": "python",
   "nbconvert_exporter": "python",
   "pygments_lexer": "ipython3",
   "version": "3.13.2"
  },
  "orig_nbformat": 4
 },
 "nbformat": 4,
 "nbformat_minor": 2
}
