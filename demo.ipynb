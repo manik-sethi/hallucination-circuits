{
 "cells": [
  {
   "cell_type": "code",
   "execution_count": 4,
   "metadata": {},
   "outputs": [],
   "source": [
    "import numpy as np\n",
    "import os\n",
    "from dotenv import load_dotenv, find_dotenv"
   ]
  },
  {
   "cell_type": "code",
   "execution_count": 6,
   "metadata": {},
   "outputs": [],
   "source": [
    "load_dotenv(dotenv_path=\".env\")\n",
    "api_key = os.getenv('GOODFIRE_API_KEY')"
   ]
  },
  {
   "cell_type": "code",
   "execution_count": 7,
   "metadata": {},
   "outputs": [
    {
     "name": "stdout",
     "output_type": "stream",
     "text": [
      "Variant(\n",
      "   base_model=meta-llama/Meta-Llama-3.1-8B-Instruct,\n",
      "   edits={\n",
      "   }\n",
      "   scopes={\n",
      "   }\n",
      ")\n"
     ]
    }
   ],
   "source": [
    "import goodfire\n",
    "client = goodfire.Client(api_key=api_key)\n",
    "\n",
    "variant = goodfire.Variant(\"meta-llama/Meta-Llama-3.1-8B-Instruct\")\n",
    "\n",
    "\n",
    "# edits = client.features.AutoSteer(\n",
    "#     # specification=\"Talk with a lot of puns\",\n",
    "#     model = variant\n",
    "# )\n",
    "print(variant)\n",
    "\n"
   ]
  },
  {
   "cell_type": "markdown",
   "metadata": {},
   "source": [
    "# FORWARD PASSES"
   ]
  },
  {
   "cell_type": "code",
   "execution_count": 9,
   "metadata": {},
   "outputs": [],
   "source": [
    "output = client.chat.completions.create(\n",
    "    [{\"role\": \"user\", \"content\": \"Tell me about the rainy weather in Hong Kong\"}],\n",
    "    model = variant,\n",
    "    stream = True,\n",
    "    max_completion_tokens=80\n",
    ")"
   ]
  },
  {
   "cell_type": "code",
   "execution_count": 14,
   "metadata": {},
   "outputs": [],
   "source": [
    "act = client.features.activations([{\"role\": \"assistant\", \"content\": message_text}], model=variant)"
   ]
  },
  {
   "cell_type": "code",
   "execution_count": 18,
   "metadata": {},
   "outputs": [],
   "source": [
    "inspector = client.features.inspect(msgs, model=variant, aggregate_by=\"sum\")"
   ]
  },
  {
   "cell_type": "markdown",
   "metadata": {},
   "source": [
    "---"
   ]
  },
  {
   "cell_type": "code",
   "execution_count": 10,
   "metadata": {},
   "outputs": [],
   "source": [
    "chunks = list(output)"
   ]
  },
  {
   "cell_type": "code",
   "execution_count": 12,
   "metadata": {},
   "outputs": [
    {
     "data": {
      "text/plain": [
       "\"Hong Kong's rainy weather is quite unique.  The city experiences a subtropical monsoon climate, with most of its annual rainfall falling between May and September. \\n\\nDuring this period, Hong Kong can experience heavy downpours and typhoons, which can cause flash flooding and strong winds. The average annual rainfall in Hong Kong is around 2,000 mm, with some areas receiving up to\""
      ]
     },
     "execution_count": 12,
     "metadata": {},
     "output_type": "execute_result"
    }
   ],
   "source": [
    "role, message_text = extract_message(chunks)\n",
    "(message_text)"
   ]
  },
  {
   "cell_type": "code",
   "execution_count": 16,
   "metadata": {},
   "outputs": [],
   "source": [
    "msgs = [\n",
    "    # {\"role\": \"user\", \"content\": \"Tell me about the rainy weather in Hong Kong\"},\n",
    "    {\"role\": \"assistant\", \"content\": message_text}\n",
    "]"
   ]
  },
  {
   "cell_type": "code",
   "execution_count": 54,
   "metadata": {},
   "outputs": [
    {
     "data": {
      "text/plain": [
       "array([[0.        , 0.        , 0.        , 0.        , 0.        ],\n",
       "       [0.        , 0.        , 0.        , 0.        , 0.        ],\n",
       "       [0.        , 0.        , 0.        , 0.        , 0.        ],\n",
       "       [0.        , 0.        , 0.        , 0.        , 0.        ],\n",
       "       [0.        , 0.        , 0.        , 0.        , 0.        ],\n",
       "       [0.        , 0.        , 0.        , 0.        , 0.        ],\n",
       "       [0.        , 0.        , 0.        , 0.        , 0.        ],\n",
       "       [0.        , 0.        , 0.        , 0.        , 0.        ],\n",
       "       [0.        , 0.        , 0.        , 0.        , 0.        ],\n",
       "       [0.        , 0.        , 0.        , 0.        , 0.        ],\n",
       "       [0.        , 0.        , 0.        , 0.        , 0.        ],\n",
       "       [0.        , 0.        , 0.        , 0.        , 0.        ],\n",
       "       [0.        , 0.        , 0.        , 0.        , 0.        ],\n",
       "       [0.        , 0.        , 0.        , 0.        , 0.        ],\n",
       "       [0.        , 0.        , 0.        , 0.        , 0.        ],\n",
       "       [0.        , 0.        , 0.        , 0.        , 0.        ],\n",
       "       [0.        , 0.        , 0.        , 0.        , 0.        ],\n",
       "       [0.        , 0.        , 0.        , 0.        , 0.        ],\n",
       "       [0.        , 0.        , 0.        , 0.        , 0.        ],\n",
       "       [0.        , 0.        , 0.        , 0.        , 0.        ],\n",
       "       [0.        , 0.        , 0.        , 0.        , 0.        ],\n",
       "       [0.        , 0.        , 0.        , 0.        , 0.        ],\n",
       "       [0.        , 0.        , 0.        , 0.        , 0.        ],\n",
       "       [0.        , 0.        , 0.        , 0.        , 0.        ],\n",
       "       [0.        , 0.        , 0.        , 0.        , 0.        ],\n",
       "       [0.        , 0.        , 0.        , 0.        , 0.        ],\n",
       "       [0.        , 0.        , 0.        , 0.        , 0.        ],\n",
       "       [0.        , 0.        , 0.        , 0.        , 0.        ],\n",
       "       [0.        , 0.        , 0.        , 0.        , 0.        ],\n",
       "       [0.        , 0.        , 0.        , 0.        , 0.        ],\n",
       "       [0.        , 0.        , 0.        , 0.        , 0.        ],\n",
       "       [0.69140625, 0.        , 0.        , 0.        , 0.        ],\n",
       "       [0.50390625, 0.        , 0.        , 0.        , 0.        ],\n",
       "       [0.78515625, 0.        , 0.        , 0.        , 0.        ],\n",
       "       [0.3984375 , 0.        , 0.        , 0.        , 0.        ],\n",
       "       [0.37304688, 0.        , 0.        , 0.        , 0.        ],\n",
       "       [0.421875  , 0.        , 0.        , 0.        , 0.        ],\n",
       "       [0.5       , 0.        , 0.        , 0.        , 0.        ],\n",
       "       [0.35546875, 0.        , 0.        , 0.        , 0.        ],\n",
       "       [1.1171875 , 0.        , 0.        , 0.        , 0.        ],\n",
       "       [0.        , 0.        , 0.        , 0.        , 0.        ],\n",
       "       [0.828125  , 0.        , 0.        , 0.        , 0.        ],\n",
       "       [0.41015625, 0.        , 0.        , 0.        , 0.        ],\n",
       "       [0.6953125 , 0.        , 0.        , 0.        , 0.        ],\n",
       "       [0.        , 0.        , 0.        , 0.        , 0.        ],\n",
       "       [0.        , 0.        , 0.        , 0.        , 0.        ],\n",
       "       [0.47265625, 0.        , 0.        , 0.        , 0.        ],\n",
       "       [0.6875    , 0.        , 0.        , 0.        , 0.        ],\n",
       "       [0.        , 0.        , 0.        , 0.        , 0.        ],\n",
       "       [0.        , 0.        , 0.        , 0.        , 0.        ],\n",
       "       [1.0390625 , 0.        , 0.        , 0.        , 0.        ],\n",
       "       [1.0078125 , 0.        , 0.        , 0.        , 0.        ],\n",
       "       [0.        , 0.        , 0.        , 0.        , 0.        ],\n",
       "       [0.53515625, 0.        , 0.        , 0.        , 0.        ],\n",
       "       [0.        , 0.        , 0.        , 0.        , 0.        ],\n",
       "       [0.        , 0.        , 0.        , 0.        , 0.        ],\n",
       "       [0.        , 0.        , 0.        , 0.        , 0.        ],\n",
       "       [0.        , 0.        , 0.        , 0.        , 0.        ],\n",
       "       [0.        , 0.        , 0.        , 0.        , 0.        ],\n",
       "       [0.        , 0.        , 0.        , 0.        , 0.        ],\n",
       "       [0.        , 0.        , 0.        , 0.        , 0.        ],\n",
       "       [0.        , 0.        , 0.        , 0.        , 0.        ],\n",
       "       [0.        , 0.        , 0.        , 0.        , 0.        ],\n",
       "       [0.        , 0.        , 0.        , 0.        , 0.        ],\n",
       "       [0.        , 0.        , 0.        , 0.        , 0.        ],\n",
       "       [0.        , 0.        , 0.        , 0.        , 0.        ],\n",
       "       [0.        , 0.        , 0.        , 0.        , 0.        ],\n",
       "       [0.        , 0.38476562, 0.        , 0.        , 0.        ],\n",
       "       [0.        , 0.        , 0.        , 0.        , 0.        ],\n",
       "       [0.        , 0.        , 0.        , 0.        , 0.        ],\n",
       "       [0.54296875, 0.        , 0.        , 0.        , 0.        ],\n",
       "       [0.        , 0.        , 0.        , 0.        , 0.        ],\n",
       "       [0.        , 0.        , 0.        , 0.        , 0.        ],\n",
       "       [0.        , 0.        , 0.        , 0.        , 0.        ],\n",
       "       [0.        , 0.        , 0.        , 0.        , 0.        ],\n",
       "       [0.        , 0.        , 0.        , 0.        , 0.        ],\n",
       "       [0.        , 0.        , 0.        , 0.        , 0.        ],\n",
       "       [0.        , 0.        , 0.        , 0.        , 0.        ],\n",
       "       [0.        , 0.        , 0.        , 0.        , 0.        ],\n",
       "       [0.        , 0.        , 0.        , 0.        , 0.        ],\n",
       "       [0.        , 0.        , 0.        , 0.        , 0.        ],\n",
       "       [0.        , 0.        , 0.        , 0.        , 0.        ],\n",
       "       [0.        , 0.        , 0.        , 0.        , 0.        ],\n",
       "       [0.        , 0.        , 0.        , 0.        , 0.        ],\n",
       "       [0.        , 0.        , 0.        , 0.        , 0.        ],\n",
       "       [0.        , 0.        , 0.        , 0.        , 0.        ],\n",
       "       [0.        , 0.        , 0.        , 0.        , 0.        ],\n",
       "       [0.        , 0.        , 0.        , 0.        , 0.        ],\n",
       "       [0.        , 0.        , 0.        , 0.        , 0.        ],\n",
       "       [0.53515625, 0.        , 0.        , 0.        , 0.        ],\n",
       "       [0.        , 0.        , 0.        , 0.        , 0.        ],\n",
       "       [0.        , 0.        , 0.        , 0.        , 0.        ],\n",
       "       [0.        , 0.        , 0.        , 0.        , 0.        ],\n",
       "       [0.        , 0.        , 0.        , 0.        , 0.        ],\n",
       "       [0.        , 0.59765625, 0.        , 0.        , 0.        ],\n",
       "       [0.        , 0.61328125, 0.        , 0.        , 0.        ],\n",
       "       [0.        , 0.        , 0.        , 0.        , 0.        ],\n",
       "       [0.        , 0.        , 0.        , 0.        , 0.        ],\n",
       "       [0.        , 0.        , 0.        , 0.        , 0.        ],\n",
       "       [0.890625  , 0.        , 0.        , 0.        , 0.        ],\n",
       "       [0.        , 0.        , 0.        , 0.        , 0.        ],\n",
       "       [0.        , 0.        , 0.        , 0.        , 0.        ],\n",
       "       [0.        , 0.        , 0.        , 0.        , 0.        ],\n",
       "       [0.        , 0.        , 0.        , 0.89453125, 0.        ],\n",
       "       [0.69140625, 0.        , 0.        , 0.        , 0.        ],\n",
       "       [0.69140625, 0.        , 0.        , 0.        , 0.        ],\n",
       "       [0.34570312, 0.28515625, 0.        , 0.        , 0.        ],\n",
       "       [0.7890625 , 0.        , 0.        , 0.        , 0.        ],\n",
       "       [0.58984375, 0.        , 0.        , 0.        , 0.        ],\n",
       "       [0.        , 0.        , 0.        , 0.        , 0.        ],\n",
       "       [0.        , 0.        , 0.        , 0.        , 0.        ],\n",
       "       [0.        , 0.        , 0.        , 0.        , 0.        ],\n",
       "       [0.78125   , 0.        , 0.        , 0.        , 0.        ],\n",
       "       [0.        , 0.        , 0.        , 0.        , 0.        ],\n",
       "       [0.        , 0.        , 0.        , 0.        , 0.        ],\n",
       "       [0.38476562, 0.        , 0.        , 0.        , 0.        ],\n",
       "       [0.8984375 , 0.        , 0.        , 0.        , 0.        ],\n",
       "       [0.35546875, 0.        , 0.        , 0.        , 0.        ],\n",
       "       [0.453125  , 0.        , 0.        , 0.        , 0.        ],\n",
       "       [0.        , 0.        , 0.        , 0.        , 0.        ],\n",
       "       [0.46875   , 0.        , 0.        , 0.        , 0.        ],\n",
       "       [0.80859375, 0.        , 0.        , 0.        , 0.        ],\n",
       "       [0.828125  , 0.        , 0.        , 0.        , 0.        ],\n",
       "       [0.63671875, 0.        , 0.        , 0.        , 0.        ],\n",
       "       [0.703125  , 0.        , 0.        , 0.        , 0.        ],\n",
       "       [0.        , 0.        , 0.        , 0.        , 0.        ],\n",
       "       [0.        , 0.        , 0.        , 0.        , 0.        ],\n",
       "       [0.        , 0.        , 0.        , 0.        , 0.        ],\n",
       "       [0.        , 0.        , 0.        , 0.        , 0.        ],\n",
       "       [0.7109375 , 0.        , 0.        , 0.        , 0.        ],\n",
       "       [0.        , 0.        , 0.        , 0.        , 0.        ],\n",
       "       [0.        , 0.        , 0.        , 0.        , 0.        ],\n",
       "       [0.        , 0.        , 0.        , 0.        , 0.        ],\n",
       "       [0.        , 0.        , 0.        , 0.        , 0.        ],\n",
       "       [0.        , 0.        , 0.        , 0.        , 0.        ],\n",
       "       [0.        , 0.        , 0.        , 0.        , 0.        ],\n",
       "       [0.        , 0.        , 0.        , 0.        , 0.        ],\n",
       "       [0.        , 0.        , 0.        , 0.        , 0.        ],\n",
       "       [0.        , 0.        , 0.        , 0.        , 0.        ],\n",
       "       [0.        , 0.        , 0.        , 0.        , 0.        ],\n",
       "       [0.        , 0.        , 0.        , 0.        , 0.        ],\n",
       "       [0.        , 0.        , 0.        , 0.        , 0.        ],\n",
       "       [0.        , 0.        , 0.        , 0.        , 0.        ],\n",
       "       [0.        , 0.        , 0.        , 0.        , 0.        ],\n",
       "       [0.        , 0.        , 0.        , 0.        , 0.        ],\n",
       "       [0.        , 0.        , 0.        , 0.        , 0.        ],\n",
       "       [0.        , 0.        , 0.        , 0.        , 0.        ],\n",
       "       [0.        , 0.        , 0.        , 0.        , 0.        ],\n",
       "       [0.        , 0.        , 0.        , 0.        , 0.        ],\n",
       "       [0.        , 0.        , 0.        , 0.        , 0.        ],\n",
       "       [0.        , 0.        , 0.        , 0.        , 0.        ]])"
      ]
     },
     "execution_count": 54,
     "metadata": {},
     "output_type": "execute_result"
    }
   ],
   "source": [
    "features = client.features.search(\n",
    "    \"Godzilla\",\n",
    "    model = variant,\n",
    "    top_k=5\n",
    ")\n",
    "features\n",
    "cols = [f.index_in_sae for f in features]\n",
    "\n",
    "feat_act = act[:,cols]\n",
    "feat_act"
   ]
  },
  {
   "cell_type": "code",
   "execution_count": 11,
   "metadata": {},
   "outputs": [],
   "source": [
    "def extract_message(chunks, choice_idx=0):\n",
    "    role = \"assistant\"\n",
    "    parts = []\n",
    "    for ch in chunks:\n",
    "        delta = ch.choices[choice_idx].delta\n",
    "        if getattr(delta, \"role\", None):\n",
    "            role = delta.role\n",
    "        if getattr(delta, \"content\", None):\n",
    "            parts.append(delta.content)\n",
    "    text = \"\".join(parts)\n",
    "    return role, text"
   ]
  },
  {
   "cell_type": "code",
   "execution_count": 65,
   "metadata": {},
   "outputs": [],
   "source": [
    "tokens = inspector.tokens"
   ]
  },
  {
   "cell_type": "code",
   "execution_count": 75,
   "metadata": {},
   "outputs": [
    {
     "data": {
      "text/plain": [
       "[Token(\"<|begin_of_text|>\"),\n",
       " Token(\"<|start_header_id|>\"),\n",
       " Token(\"system\"),\n",
       " Token(\"<|end_header_id|>\"),\n",
       " Token(\"\n",
       " \n",
       " \"),\n",
       " Token(\"Cut\"),\n",
       " Token(\"ting\"),\n",
       " Token(\" Knowledge\"),\n",
       " Token(\" Date\"),\n",
       " Token(\":\"),\n",
       " Token(\" December\"),\n",
       " Token(\" \"),\n",
       " Token(\"202\"),\n",
       " Token(\"3\"),\n",
       " Token(\"\n",
       " \"),\n",
       " Token(\"Today\"),\n",
       " Token(\" Date\"),\n",
       " Token(\":\"),\n",
       " Token(\" \"),\n",
       " Token(\"26\"),\n",
       " Token(\" Jul\"),\n",
       " Token(\" \"),\n",
       " Token(\"202\"),\n",
       " Token(\"4\"),\n",
       " Token(\"\n",
       " \n",
       " \"),\n",
       " Token(\"<|eot_id|>\"),\n",
       " Token(\"<|start_header_id|>\"),\n",
       " Token(\"user\"),\n",
       " Token(\"<|end_header_id|>\"),\n",
       " Token(\"\n",
       " \n",
       " \"),\n",
       " Token(\"God\"),\n",
       " Token(\"zilla\"),\n",
       " Token(\"!\"),\n",
       " Token(\" The\"),\n",
       " Token(\" King\"),\n",
       " Token(\" of\"),\n",
       " Token(\" the\"),\n",
       " Token(\" Monsters\"),\n",
       " Token(\".\"),\n",
       " Token(\" He\"),\n",
       " Token(\"'s\"),\n",
       " Token(\" a\"),\n",
       " Token(\" giant\"),\n",
       " Token(\",\"),\n",
       " Token(\" fire\"),\n",
       " Token(\"-bre\"),\n",
       " Token(\"athing\"),\n",
       " Token(\",\"),\n",
       " Token(\" city\"),\n",
       " Token(\"-st\"),\n",
       " Token(\"om\"),\n",
       " Token(\"ping\"),\n",
       " Token(\" rept\"),\n",
       " Token(\"ile\"),\n",
       " Token(\" from\"),\n",
       " Token(\" Japanese\"),\n",
       " Token(\" legend\"),\n",
       " Token(\".\"),\n",
       " Token(\" Created\"),\n",
       " Token(\" by\"),\n",
       " Token(\" Tom\"),\n",
       " Token(\"oy\"),\n",
       " Token(\"uki\"),\n",
       " Token(\" Tan\"),\n",
       " Token(\"aka\"),\n",
       " Token(\" in\"),\n",
       " Token(\" \"),\n",
       " Token(\"195\"),\n",
       " Token(\"4\"),\n",
       " Token(\",\"),\n",
       " Token(\" Godzilla\"),\n",
       " Token(\" was\"),\n",
       " Token(\" meant\"),\n",
       " Token(\" to\"),\n",
       " Token(\" be\"),\n",
       " Token(\" a\"),\n",
       " Token(\" metaphor\"),\n",
       " Token(\" for\"),\n",
       " Token(\" the\"),\n",
       " Token(\" atomic\"),\n",
       " Token(\" age\"),\n",
       " Token(\" and\"),\n",
       " Token(\" the\"),\n",
       " Token(\" fears\"),\n",
       " Token(\" of\"),\n",
       " Token(\" nuclear\"),\n",
       " Token(\" destruction\"),\n",
       " Token(\".\n",
       " \n",
       " \"),\n",
       " Token(\"God\"),\n",
       " Token(\"zilla\"),\n",
       " Token(\"'s\"),\n",
       " Token(\" real\"),\n",
       " Token(\" name\"),\n",
       " Token(\" is\"),\n",
       " Token(\" Go\"),\n",
       " Token(\"j\"),\n",
       " Token(\"ira\"),\n",
       " Token(\",\"),\n",
       " Token(\" and\"),\n",
       " Token(\" he\"),\n",
       " Token(\"'s\"),\n",
       " Token(\" often\"),\n",
       " Token(\" referred\"),\n",
       " Token(\" to\"),\n",
       " Token(\" as\"),\n",
       " Token(\" \"\"),\n",
       " Token(\"King\"),\n",
       " Token(\" Kong\"),\n",
       " Token(\"'s\"),\n",
       " Token(\" nem\"),\n",
       " Token(\"esis\"),\n",
       " Token(\".\"\"),\n",
       " Token(\" He\"),\n",
       " Token(\"'s\"),\n",
       " Token(\" typically\"),\n",
       " Token(\" around\"),\n",
       " Token(\" \"),\n",
       " Token(\"100\"),\n",
       " Token(\"-\"),\n",
       " Token(\"150\"),\n",
       " Token(\" meters\"),\n",
       " Token(\" tall\"),\n",
       " Token(\",\"),\n",
       " Token(\" with\"),\n",
       " Token(\" incredible\"),\n",
       " Token(\" strength\"),\n",
       " Token(\" and\"),\n",
       " Token(\" speed\"),\n",
       " Token(\".\"),\n",
       " Token(\" He\"),\n",
       " Token(\"'s\"),\n",
       " Token(\" also\"),\n",
       " Token(\" highly\"),\n",
       " Token(\" resistant\"),\n",
       " Token(\" to\"),\n",
       " Token(\" radiation\"),\n",
       " Token(\" and\"),\n",
       " Token(\" can\"),\n",
       " Token(\" even\"),\n",
       " Token(\" withstand\"),\n",
       " Token(\" nuclear\"),\n",
       " Token(\" explosions\"),\n",
       " Token(\".\n",
       " \n",
       " \"),\n",
       " Token(\"Over\"),\n",
       " Token(\" \"),\n",
       " Token(\"65\"),\n",
       " Token(\" years\"),\n",
       " Token(\",\"),\n",
       " Token(\" there\"),\n",
       " Token(\" have\"),\n",
       " Token(\"<|eot_id|>\")]"
      ]
     },
     "execution_count": 75,
     "metadata": {},
     "output_type": "execute_result"
    }
   ],
   "source": [
    "tokens"
   ]
  },
  {
   "cell_type": "code",
   "execution_count": 25,
   "metadata": {},
   "outputs": [
    {
     "data": {
      "text/plain": [
       "FeatureActivations(\n",
       "   0: (Feature(\"Content discussing Hong Kong, particularly in sensitive or censorship-relevant contexts\"), 62.8095703125)\n",
       "   1: (Feature(\"Descriptions of temperature patterns and seasonal variations\"), 56.7080078125)\n",
       "   2: (Feature(\"Numerical ranges describing environmental measurements, especially precipitation\"), 49.794921875)\n",
       "   3: (Feature(\"Detailed descriptions of locations and experiences\"), 16.2568359375)\n",
       "   4: (Feature(\"Geographic and administrative relationships in formal writing, especially regarding Southeast Asia\"), 11.39453125)\n",
       ")"
      ]
     },
     "execution_count": 25,
     "metadata": {},
     "output_type": "execute_result"
    }
   ],
   "source": [
    "inspector.top(5)"
   ]
  },
  {
   "cell_type": "code",
   "execution_count": 20,
   "metadata": {},
   "outputs": [
    {
     "data": {
      "text/plain": [
       "\"Hong Kong's rainy weather is quite unique.  The city experiences a subtropical monsoon climate, with most of its annual rainfall falling between May and September. \\n\\nDuring this period, Hong Kong can experience heavy downpours and typhoons, which can cause flash flooding and strong winds. The average annual rainfall in Hong Kong is around 2,000 mm, with some areas receiving up to\""
      ]
     },
     "execution_count": 20,
     "metadata": {},
     "output_type": "execute_result"
    }
   ],
   "source": []
  },
  {
   "cell_type": "code",
   "execution_count": 21,
   "metadata": {},
   "outputs": [],
   "source": [
    "neighbors =  client.features.search(\n",
    "    message_text[0:99],\n",
    "    model=variant,\n",
    "    top_k=5\n",
    ")\n",
    "\n",
    "# Get indices\n",
    "idx = []\n",
    "for neighbor in neighbors:\n",
    "    idx.append(neighbor.index_in_sae)\n",
    "\n",
    "\n",
    "look = client.features.lookup(indices=idx, model=variant)\n",
    "\n",
    "    "
   ]
  },
  {
   "cell_type": "code",
   "execution_count": 22,
   "metadata": {},
   "outputs": [
    {
     "name": "stdout",
     "output_type": "stream",
     "text": [
      "Feature(\"References to Hong Kong as a distinct entity\")\n",
      "Feature(\"Content discussing Hong Kong, particularly in sensitive or censorship-relevant contexts\")\n",
      "Feature(\"Comparing weather and climate patterns between locations\")\n",
      "Feature(\"Formal descriptive content about Shanghai's features and characteristics\")\n",
      "Feature(\"Singapore-specific contexts, especially weather and formal language\")\n"
     ]
    }
   ],
   "source": [
    "for neighbor in neighbors:\n",
    "    print(neighbor)"
   ]
  },
  {
   "cell_type": "code",
   "execution_count": 23,
   "metadata": {},
   "outputs": [
    {
     "data": {
      "text/plain": [
       "{36518: Feature(\"Comparing weather and climate patterns between locations\"),\n",
       " 62852: Feature(\"Content discussing Hong Kong, particularly in sensitive or censorship-relevant contexts\"),\n",
       " 38722: Feature(\"Formal descriptive content about Shanghai's features and characteristics\"),\n",
       " 58212: Feature(\"Singapore-specific contexts, especially weather and formal language\"),\n",
       " 44860: Feature(\"References to Hong Kong as a distinct entity\")}"
      ]
     },
     "execution_count": 23,
     "metadata": {},
     "output_type": "execute_result"
    }
   ],
   "source": [
    "look"
   ]
  },
  {
   "cell_type": "code",
   "execution_count": 24,
   "metadata": {},
   "outputs": [],
   "source": [
    "shai = act[:,idx]"
   ]
  },
  {
   "cell_type": "code",
   "execution_count": 26,
   "metadata": {},
   "outputs": [
    {
     "data": {
      "text/plain": [
       "array([19.46484375, 62.80957031, 17.08789062,  0.        ,  0.        ])"
      ]
     },
     "execution_count": 26,
     "metadata": {},
     "output_type": "execute_result"
    }
   ],
   "source": [
    "np.sum(shai, axis=0)"
   ]
  },
  {
   "cell_type": "code",
   "execution_count": 27,
   "metadata": {},
   "outputs": [
    {
     "data": {
      "text/plain": [
       "(111, 65536)"
      ]
     },
     "execution_count": 27,
     "metadata": {},
     "output_type": "execute_result"
    }
   ],
   "source": [
    "act.shape"
   ]
  },
  {
   "cell_type": "code",
   "execution_count": null,
   "metadata": {},
   "outputs": [],
   "source": []
  }
 ],
 "metadata": {
  "kernelspec": {
   "display_name": "SAEenv",
   "language": "python",
   "name": "python3"
  },
  "language_info": {
   "codemirror_mode": {
    "name": "ipython",
    "version": 3
   },
   "file_extension": ".py",
   "mimetype": "text/x-python",
   "name": "python",
   "nbconvert_exporter": "python",
   "pygments_lexer": "ipython3",
   "version": "3.13.2"
  },
  "orig_nbformat": 4
 },
 "nbformat": 4,
 "nbformat_minor": 2
}
