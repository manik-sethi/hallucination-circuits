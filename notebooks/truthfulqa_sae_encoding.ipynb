{
 "cells": [
  {
   "cell_type": "code",
   "execution_count": 7,
   "id": "14fb3b13-39be-4133-8a7e-30f524fc1123",
   "metadata": {},
   "outputs": [],
   "source": [
    "import numpy as np\n",
    "from uuid import uuid4\n",
    "import gc\n",
    "import torch\n",
    "import datasets\n",
    "from datasets import load_dataset\n",
    "from sae_lens import SAE\n",
    "from transformers import AutoModelForCausalLM, AutoTokenizer\n",
    "from transformer_lens import HookedTransformer\n",
    "from sklearn.decomposition import PCA, SparsePCA"
   ]
  },
  {
   "cell_type": "code",
   "execution_count": 2,
   "id": "7c6d831c-a4a0-4dd3-bae7-ccd6b1e97f99",
   "metadata": {},
   "outputs": [],
   "source": [
    "device = 'cuda' if torch.cuda.is_available() else 'cpu'"
   ]
  },
  {
   "cell_type": "markdown",
   "id": "218227fa-533e-4d2c-8bd3-4b4242b26d7d",
   "metadata": {},
   "source": [
    "## Load Dataset"
   ]
  },
  {
   "cell_type": "code",
   "execution_count": 3,
   "id": "d719f03b-50a4-4fe1-a3b7-3aedecf51bdb",
   "metadata": {},
   "outputs": [
    {
     "data": {
      "application/vnd.jupyter.widget-view+json": {
       "model_id": "d9fef1662c044dcdb2a9c0f71879c7ca",
       "version_major": 2,
       "version_minor": 0
      },
      "text/plain": [
       "README.md: 0.00B [00:00, ?B/s]"
      ]
     },
     "metadata": {},
     "output_type": "display_data"
    },
    {
     "data": {
      "application/vnd.jupyter.widget-view+json": {
       "model_id": "695648510b934328a2459504036a120f",
       "version_major": 2,
       "version_minor": 0
      },
      "text/plain": [
       "train.csv: 0.00B [00:00, ?B/s]"
      ]
     },
     "metadata": {},
     "output_type": "display_data"
    },
    {
     "data": {
      "application/vnd.jupyter.widget-view+json": {
       "model_id": "ac720b76a2264faab3ba997aaf883152",
       "version_major": 2,
       "version_minor": 0
      },
      "text/plain": [
       "Generating train split:   0%|          | 0/817 [00:00<?, ? examples/s]"
      ]
     },
     "metadata": {},
     "output_type": "display_data"
    }
   ],
   "source": [
    "ds = load_dataset(\"domenicrosati/TruthfulQA\")\n",
    "ds = ds.remove_columns(['Type', 'Category', 'Question', 'Best Answer', 'Source'])\n",
    "data = ds"
   ]
  },
  {
   "cell_type": "markdown",
   "id": "dfb0e51c-cbdc-408c-8c13-fcac48314f4b",
   "metadata": {},
   "source": [
    "### Load SAE's"
   ]
  },
  {
   "cell_type": "markdown",
   "id": "70bf7452-ea05-4314-ae05-aa9ba454804e",
   "metadata": {},
   "source": [
    "### Load Model"
   ]
  },
  {
   "cell_type": "code",
   "execution_count": 5,
   "id": "c04df04e-24cf-4ade-9928-e010e69dd647",
   "metadata": {},
   "outputs": [
    {
     "data": {
      "application/vnd.jupyter.widget-view+json": {
       "model_id": "7adbb30e147d429f92c42e7e75cfd6ee",
       "version_major": 2,
       "version_minor": 0
      },
      "text/plain": [
       "config.json:   0%|          | 0.00/855 [00:00<?, ?B/s]"
      ]
     },
     "metadata": {},
     "output_type": "display_data"
    },
    {
     "name": "stderr",
     "output_type": "stream",
     "text": [
      "`torch_dtype` is deprecated! Use `dtype` instead!\n"
     ]
    },
    {
     "data": {
      "application/vnd.jupyter.widget-view+json": {
       "model_id": "ac180cc1116f469092dcd4475d7d4c37",
       "version_major": 2,
       "version_minor": 0
      },
      "text/plain": [
       "model.safetensors.index.json:   0%|          | 0.00/23.9k [00:00<?, ?B/s]"
      ]
     },
     "metadata": {},
     "output_type": "display_data"
    },
    {
     "data": {
      "application/vnd.jupyter.widget-view+json": {
       "model_id": "6f45e8d82cae49f484447878a3b5f664",
       "version_major": 2,
       "version_minor": 0
      },
      "text/plain": [
       "Fetching 4 files:   0%|          | 0/4 [00:00<?, ?it/s]"
      ]
     },
     "metadata": {},
     "output_type": "display_data"
    },
    {
     "data": {
      "application/vnd.jupyter.widget-view+json": {
       "model_id": "35e51b5beeb14d318a39b1546a78941f",
       "version_major": 2,
       "version_minor": 0
      },
      "text/plain": [
       "model-00003-of-00004.safetensors:   0%|          | 0.00/4.92G [00:00<?, ?B/s]"
      ]
     },
     "metadata": {},
     "output_type": "display_data"
    },
    {
     "data": {
      "application/vnd.jupyter.widget-view+json": {
       "model_id": "03401b249ece4871b88e000d0f13a5ae",
       "version_major": 2,
       "version_minor": 0
      },
      "text/plain": [
       "model-00001-of-00004.safetensors:   0%|          | 0.00/4.98G [00:00<?, ?B/s]"
      ]
     },
     "metadata": {},
     "output_type": "display_data"
    },
    {
     "data": {
      "application/vnd.jupyter.widget-view+json": {
       "model_id": "72e0a7b7da104fafa802d2430c352513",
       "version_major": 2,
       "version_minor": 0
      },
      "text/plain": [
       "model-00004-of-00004.safetensors:   0%|          | 0.00/1.17G [00:00<?, ?B/s]"
      ]
     },
     "metadata": {},
     "output_type": "display_data"
    },
    {
     "data": {
      "application/vnd.jupyter.widget-view+json": {
       "model_id": "4a2315c0d2ba4894b12902f0960f1725",
       "version_major": 2,
       "version_minor": 0
      },
      "text/plain": [
       "model-00002-of-00004.safetensors:   0%|          | 0.00/5.00G [00:00<?, ?B/s]"
      ]
     },
     "metadata": {},
     "output_type": "display_data"
    },
    {
     "data": {
      "application/vnd.jupyter.widget-view+json": {
       "model_id": "1ed32fde044348d2a5000075a208c92e",
       "version_major": 2,
       "version_minor": 0
      },
      "text/plain": [
       "Loading checkpoint shards:   0%|          | 0/4 [00:00<?, ?it/s]"
      ]
     },
     "metadata": {},
     "output_type": "display_data"
    },
    {
     "data": {
      "application/vnd.jupyter.widget-view+json": {
       "model_id": "d3f428337a4b45ba93d86d07285ca693",
       "version_major": 2,
       "version_minor": 0
      },
      "text/plain": [
       "generation_config.json:   0%|          | 0.00/184 [00:00<?, ?B/s]"
      ]
     },
     "metadata": {},
     "output_type": "display_data"
    },
    {
     "data": {
      "application/vnd.jupyter.widget-view+json": {
       "model_id": "8371fb3df86948178f4dc43ead41049d",
       "version_major": 2,
       "version_minor": 0
      },
      "text/plain": [
       "tokenizer_config.json:   0%|          | 0.00/55.4k [00:00<?, ?B/s]"
      ]
     },
     "metadata": {},
     "output_type": "display_data"
    },
    {
     "data": {
      "application/vnd.jupyter.widget-view+json": {
       "model_id": "a248107d379c4eddbd28f71356ae14c0",
       "version_major": 2,
       "version_minor": 0
      },
      "text/plain": [
       "tokenizer.json:   0%|          | 0.00/9.09M [00:00<?, ?B/s]"
      ]
     },
     "metadata": {},
     "output_type": "display_data"
    },
    {
     "data": {
      "application/vnd.jupyter.widget-view+json": {
       "model_id": "fc5255989e574fbaa23a6a496bbd0bdc",
       "version_major": 2,
       "version_minor": 0
      },
      "text/plain": [
       "special_tokens_map.json:   0%|          | 0.00/296 [00:00<?, ?B/s]"
      ]
     },
     "metadata": {},
     "output_type": "display_data"
    },
    {
     "name": "stderr",
     "output_type": "stream",
     "text": [
      "WARNING:root:You are not using LayerNorm, so the writing weights can't be centered! Skipping\n"
     ]
    },
    {
     "name": "stdout",
     "output_type": "stream",
     "text": [
      "Loaded pretrained model meta-llama/Llama-3.1-8B-Instruct into HookedTransformer\n"
     ]
    }
   ],
   "source": [
    "model = HookedTransformer.from_pretrained(\"meta-llama/Llama-3.1-8B-Instruct\", device=device)\n",
    "tokenizer = AutoTokenizer.from_pretrained(\"meta-llama/Llama-3.1-8B-Instruct\")"
   ]
  },
  {
   "cell_type": "code",
   "execution_count": 8,
   "id": "692f724e-3f6e-45f3-b4b7-1a12a484d3a4",
   "metadata": {},
   "outputs": [
    {
     "data": {
      "application/vnd.jupyter.widget-view+json": {
       "model_id": "c9d0947050434c00849ffcc8a481116a",
       "version_major": 2,
       "version_minor": 0
      },
      "text/plain": [
       "SAE layer 3:   0%|          | 0/817 [00:00<?, ? examples/s]"
      ]
     },
     "metadata": {},
     "output_type": "display_data"
    },
    {
     "data": {
      "application/vnd.jupyter.widget-view+json": {
       "model_id": "761cea28aae042b980d7da2f1bd117a8",
       "version_major": 2,
       "version_minor": 0
      },
      "text/plain": [
       "config.json:   0%|          | 0.00/948 [00:00<?, ?B/s]"
      ]
     },
     "metadata": {},
     "output_type": "display_data"
    },
    {
     "data": {
      "application/vnd.jupyter.widget-view+json": {
       "model_id": "ba74939c1b0b45f8940fa2a0a9bc9778",
       "version_major": 2,
       "version_minor": 0
      },
      "text/plain": [
       "resid_post_layer_7/trainer_1/ae.pt:   0%|          | 0.00/4.30G [00:00<?, ?B/s]"
      ]
     },
     "metadata": {},
     "output_type": "display_data"
    },
    {
     "data": {
      "application/vnd.jupyter.widget-view+json": {
       "model_id": "b7896f3b3bd44595bee4e3edd9bddcb0",
       "version_major": 2,
       "version_minor": 0
      },
      "text/plain": [
       "SAE layer 7:   0%|          | 0/817 [00:00<?, ? examples/s]"
      ]
     },
     "metadata": {},
     "output_type": "display_data"
    },
    {
     "data": {
      "application/vnd.jupyter.widget-view+json": {
       "model_id": "d88ab188efd745458b37dbde6a03106c",
       "version_major": 2,
       "version_minor": 0
      },
      "text/plain": [
       "config.json:   0%|          | 0.00/951 [00:00<?, ?B/s]"
      ]
     },
     "metadata": {},
     "output_type": "display_data"
    },
    {
     "data": {
      "application/vnd.jupyter.widget-view+json": {
       "model_id": "67d6becc2f14488ba0aa11dc70717c09",
       "version_major": 2,
       "version_minor": 0
      },
      "text/plain": [
       "resid_post_layer_11/trainer_1/ae.pt:   0%|          | 0.00/4.30G [00:00<?, ?B/s]"
      ]
     },
     "metadata": {},
     "output_type": "display_data"
    },
    {
     "data": {
      "application/vnd.jupyter.widget-view+json": {
       "model_id": "b89f69b3d0234938a14e2673d58e09e5",
       "version_major": 2,
       "version_minor": 0
      },
      "text/plain": [
       "SAE layer 11:   0%|          | 0/817 [00:00<?, ? examples/s]"
      ]
     },
     "metadata": {},
     "output_type": "display_data"
    },
    {
     "data": {
      "application/vnd.jupyter.widget-view+json": {
       "model_id": "212ad859d9bf4c309d1e1c7dd57c9d04",
       "version_major": 2,
       "version_minor": 0
      },
      "text/plain": [
       "config.json:   0%|          | 0.00/951 [00:00<?, ?B/s]"
      ]
     },
     "metadata": {},
     "output_type": "display_data"
    },
    {
     "data": {
      "application/vnd.jupyter.widget-view+json": {
       "model_id": "0857a8c8cf834c58abfe851cb1ec5da0",
       "version_major": 2,
       "version_minor": 0
      },
      "text/plain": [
       "resid_post_layer_15/trainer_1/ae.pt:   0%|          | 0.00/4.30G [00:00<?, ?B/s]"
      ]
     },
     "metadata": {},
     "output_type": "display_data"
    },
    {
     "data": {
      "application/vnd.jupyter.widget-view+json": {
       "model_id": "b783fd03b54c441b9fd3d039730507cd",
       "version_major": 2,
       "version_minor": 0
      },
      "text/plain": [
       "SAE layer 15:   0%|          | 0/817 [00:00<?, ? examples/s]"
      ]
     },
     "metadata": {},
     "output_type": "display_data"
    },
    {
     "data": {
      "application/vnd.jupyter.widget-view+json": {
       "model_id": "6d7a7972f86f4ee49e307ca513a9e6f9",
       "version_major": 2,
       "version_minor": 0
      },
      "text/plain": [
       "config.json:   0%|          | 0.00/951 [00:00<?, ?B/s]"
      ]
     },
     "metadata": {},
     "output_type": "display_data"
    },
    {
     "data": {
      "application/vnd.jupyter.widget-view+json": {
       "model_id": "7229b038462f4b9f9693fad9dba7af8b",
       "version_major": 2,
       "version_minor": 0
      },
      "text/plain": [
       "resid_post_layer_19/trainer_1/ae.pt:   0%|          | 0.00/4.30G [00:00<?, ?B/s]"
      ]
     },
     "metadata": {},
     "output_type": "display_data"
    },
    {
     "data": {
      "application/vnd.jupyter.widget-view+json": {
       "model_id": "923e795fb3884729863f01e39eac8dcc",
       "version_major": 2,
       "version_minor": 0
      },
      "text/plain": [
       "SAE layer 19:   0%|          | 0/817 [00:00<?, ? examples/s]"
      ]
     },
     "metadata": {},
     "output_type": "display_data"
    },
    {
     "data": {
      "application/vnd.jupyter.widget-view+json": {
       "model_id": "b073abaea0e749fa89db9213d65a60e7",
       "version_major": 2,
       "version_minor": 0
      },
      "text/plain": [
       "config.json:   0%|          | 0.00/951 [00:00<?, ?B/s]"
      ]
     },
     "metadata": {},
     "output_type": "display_data"
    },
    {
     "data": {
      "application/vnd.jupyter.widget-view+json": {
       "model_id": "7253efc248a64cc291903c1c516e3911",
       "version_major": 2,
       "version_minor": 0
      },
      "text/plain": [
       "resid_post_layer_23/trainer_1/ae.pt:   0%|          | 0.00/4.30G [00:00<?, ?B/s]"
      ]
     },
     "metadata": {},
     "output_type": "display_data"
    },
    {
     "data": {
      "application/vnd.jupyter.widget-view+json": {
       "model_id": "de6ec985124b41bfb71e3477982a2f6e",
       "version_major": 2,
       "version_minor": 0
      },
      "text/plain": [
       "SAE layer 23:   0%|          | 0/817 [00:00<?, ? examples/s]"
      ]
     },
     "metadata": {},
     "output_type": "display_data"
    },
    {
     "data": {
      "application/vnd.jupyter.widget-view+json": {
       "model_id": "656fffa3047d47f6a522c0adbbd4d156",
       "version_major": 2,
       "version_minor": 0
      },
      "text/plain": [
       "config.json:   0%|          | 0.00/951 [00:00<?, ?B/s]"
      ]
     },
     "metadata": {},
     "output_type": "display_data"
    },
    {
     "data": {
      "application/vnd.jupyter.widget-view+json": {
       "model_id": "ad19d158160e456c8cb20848589d2711",
       "version_major": 2,
       "version_minor": 0
      },
      "text/plain": [
       "resid_post_layer_27/trainer_1/ae.pt:   0%|          | 0.00/4.30G [00:00<?, ?B/s]"
      ]
     },
     "metadata": {},
     "output_type": "display_data"
    },
    {
     "data": {
      "application/vnd.jupyter.widget-view+json": {
       "model_id": "3ad318fbc42841a59f8e25189f506564",
       "version_major": 2,
       "version_minor": 0
      },
      "text/plain": [
       "SAE layer 27:   0%|          | 0/817 [00:00<?, ? examples/s]"
      ]
     },
     "metadata": {},
     "output_type": "display_data"
    }
   ],
   "source": [
    "TEXT_COL = \"Correct Answers\"\n",
    "BATCH    = 16\n",
    "\n",
    "model.eval()\n",
    "torch.set_grad_enabled(False)\n",
    "torch.backends.cuda.matmul.allow_tf32 = True\n",
    "torch.backends.cudnn.allow_tf32 = True\n",
    "\n",
    "\n",
    "# (do this before we start adding SAE columns)\n",
    "data = datasets.DatasetDict({\n",
    "    name: split.remove_columns([c for c in split.column_names if c != TEXT_COL])\n",
    "    for name, split in data.items()\n",
    "})\n",
    "\n",
    "for i in range(3, 28, 4):\n",
    "    layer   = f\"blocks.{i}.hook_resid_post\"\n",
    "    NEW_COL = f\"correct_sae_{i}_acts\"\n",
    "\n",
    "    # Load SAE for this layer\n",
    "    sae = SAE.from_pretrained(\n",
    "        release=\"llama-3.1-8b-instruct-andyrdt\",\n",
    "        sae_id=f\"resid_post_layer_{i}_trainer_1\",\n",
    "        device=\"cuda\",\n",
    "    ).eval()\n",
    "\n",
    "    @torch.inference_mode()\n",
    "    def token2sae(texts):                    \n",
    "        toks = model.to_tokens(texts)\n",
    "        _, cache = model.run_with_cache(\n",
    "            toks,\n",
    "            names_filter=lambda n: n == layer,  # cache only this hook\n",
    "            stop_at_layer=i + 1,                # stop early\n",
    "        )\n",
    "        resid = cache[layer]                    # [B, L, d_model]\n",
    "        reps  = sae.encode(resid)               # [B, L, d_sae]\n",
    "        acts  = reps.mean(dim=1)                # [B, d_sae]\n",
    "        out   = acts.float().cpu().numpy().tolist()\n",
    "\n",
    "        del cache, resid, reps, acts\n",
    "        return {NEW_COL: out}\n",
    "\n",
    "    # Map PER SPLIT, while extending that split's existing schema with the new column\n",
    "    new_splits = {}\n",
    "    for name, split in data.items():\n",
    "        feats = split.features.copy()                           # keep all existing cols\n",
    "        feats[TEXT_COL] = datasets.Value(\"string\")              # ensure text type is set\n",
    "        feats[NEW_COL]  = datasets.Sequence(datasets.Value(\"float32\"))  # add this layer's vector\n",
    "\n",
    "        new_splits[name] = split.map(\n",
    "            token2sae,\n",
    "            batched=True,\n",
    "            batch_size=BATCH,\n",
    "            input_columns=[TEXT_COL],\n",
    "            features=feats,\n",
    "            writer_batch_size=32,\n",
    "            load_from_cache_file=False,\n",
    "            desc=f\"SAE layer {i}\",\n",
    "            new_fingerprint=str(uuid4())\n",
    "        )\n",
    "\n",
    "    # Replace the whole DatasetDict with the updated splits\n",
    "    data = datasets.DatasetDict(new_splits)\n",
    "\n",
    "    # Free VRAM for next SAE\n",
    "    del sae\n",
    "    torch.cuda.empty_cache()\n",
    "\n",
    "\n",
    "# features: ['Correct Answers', 'correct_sae_3_acts', 'correct_sae_7_acts', ..., 'correct_sae_27_acts']\n"
   ]
  },
  {
   "cell_type": "markdown",
   "id": "397a4d2c-900b-461f-98dd-60f6298c45a8",
   "metadata": {},
   "source": [
    "#### Quick Sanity check\n",
    "check if new features exist"
   ]
  },
  {
   "cell_type": "code",
   "execution_count": 9,
   "id": "5cc98b1f-9e5f-4a96-96a1-6dede56c39fb",
   "metadata": {},
   "outputs": [
    {
     "data": {
      "text/plain": [
       "131072"
      ]
     },
     "execution_count": 9,
     "metadata": {},
     "output_type": "execute_result"
    }
   ],
   "source": [
    "len(data['train'][0]['correct_sae_3_acts'])"
   ]
  },
  {
   "cell_type": "code",
   "execution_count": 10,
   "id": "fabd4d06-df7b-4635-8aa0-4ff806f0afac",
   "metadata": {},
   "outputs": [],
   "source": [
    "repo_id = \"mksethi/sae-acts-llama31-8b-it\""
   ]
  },
  {
   "cell_type": "code",
   "execution_count": null,
   "id": "1c4e53d4-ccd9-45c6-8fea-9fda01491a91",
   "metadata": {},
   "outputs": [],
   "source": [
    "data.push_to_hub(\n",
    "    repo_id,\n",
    "    private=True,\n",
    "    max_shard_size=\"2GB\",\n",
    "    commit_message=\"Add SAE pooled activations (layers 3..27)\"\n",
    ")"
   ]
  }
 ],
 "metadata": {
  "kernelspec": {
   "display_name": "Python 3 (ipykernel)",
   "language": "python",
   "name": "python3"
  },
  "language_info": {
   "codemirror_mode": {
    "name": "ipython",
    "version": 3
   },
   "file_extension": ".py",
   "mimetype": "text/x-python",
   "name": "python",
   "nbconvert_exporter": "python",
   "pygments_lexer": "ipython3",
   "version": "3.11.11"
  }
 },
 "nbformat": 4,
 "nbformat_minor": 5
}
